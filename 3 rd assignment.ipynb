{
 "cells": [
  {
   "cell_type": "code",
   "execution_count": 65,
   "id": "ad680901-9d32-40a0-b714-c857a4960484",
   "metadata": {},
   "outputs": [
    {
     "data": {
      "text/plain": [
       "[1, 3, 5, 7, 9, 11, 13, 15, 17, 19, 21, 23]"
      ]
     },
     "execution_count": 65,
     "metadata": {},
     "output_type": "execute_result"
    }
   ],
   "source": [
    "\"\"\"Q1. Which keyword is used to create a function? Create a function to return a list of odd numbers in the\n",
    "range of 1 to 25.\"\"\"\n",
    "# Answer - def keword is used to creat a function or define a functipon.\n",
    "range(1,25)\n",
    "list(filter(lambda x: x%2!=0, range(1,25)))"
   ]
  },
  {
   "cell_type": "code",
   "execution_count": 68,
   "id": "09846244-67cf-4ae7-949c-b63c59c1413f",
   "metadata": {
    "tags": []
   },
   "outputs": [],
   "source": [
    "\"\"\"Q2. Why *args and **kwargs is used in some functions? Create a function each for *args and **kwargs\n",
    "to demonstrate their use.\n",
    "Answer - *args and **kwargs are used as argument of the function when the value in umknown or when you are unsured \n",
    "about the number of argument to pass the function.\"\"\"\n",
    "def test55(*args):\n",
    "    return args\n",
    "def test56(**kwargs):\n",
    "    return kwargs"
   ]
  },
  {
   "cell_type": "code",
   "execution_count": null,
   "id": "c739ccbb-6601-4fcd-ac70-96ea7e7e1118",
   "metadata": {
    "tags": []
   },
   "outputs": [
    {
     "data": {
      "text/plain": [
       "(25, 45, 145, 'Apoorv', 'Kumar')"
      ]
     },
     "execution_count": 70,
     "metadata": {},
     "output_type": "execute_result"
    }
   ],
   "source": [
    "test55(25,45,145,'Apoorv','Kumar')"
   ]
  },
  {
   "cell_type": "code",
   "execution_count": 71,
   "id": "bd08125b-fa19-4b7b-b88b-ac9bb762adec",
   "metadata": {},
   "outputs": [
    {
     "data": {
      "text/plain": [
       "{'a': 68, 'b': 986, 'c': 'class 10', 'd': '11 class'}"
      ]
     },
     "execution_count": 71,
     "metadata": {},
     "output_type": "execute_result"
    }
   ],
   "source": [
    "test56(a=68,b=986,c='class 10',d='11 class')"
   ]
  },
  {
   "cell_type": "code",
   "execution_count": 3,
   "id": "e7fbae22-2dff-4338-8790-b45306a6b77b",
   "metadata": {},
   "outputs": [],
   "source": [
    "\"\"\"Q3. What is an iterator in python? Name the method used to initialise the iterator object and the method\n",
    "used for iteration. Use these methods to print the first five elements of the given list [2, 4, 6, 8, 10, 12, 14,\n",
    "16, 18, 20].\"\"\"\n",
    "\"\"\"Answer -An iterator is an object that is used to iterate over iterable objects like lists, tuples, dicts, \n",
    "and sets.\n",
    "iterators object is initialized using the iter() method. It uses the next() method for iteration.\"\"\"\n",
    "listA = [2,4,6,8,10,12,14,16,18,20]\n",
    "Z=iter(listA)"
   ]
  },
  {
   "cell_type": "code",
   "execution_count": 4,
   "id": "85fd7950-ed43-4661-aa88-6c10e7c40a84",
   "metadata": {},
   "outputs": [
    {
     "data": {
      "text/plain": [
       "2"
      ]
     },
     "execution_count": 4,
     "metadata": {},
     "output_type": "execute_result"
    }
   ],
   "source": [
    "next(Z)"
   ]
  },
  {
   "cell_type": "code",
   "execution_count": 5,
   "id": "dc368982-a07b-42cb-ab8b-1296aa859809",
   "metadata": {},
   "outputs": [
    {
     "data": {
      "text/plain": [
       "4"
      ]
     },
     "execution_count": 5,
     "metadata": {},
     "output_type": "execute_result"
    }
   ],
   "source": [
    "next(Z)"
   ]
  },
  {
   "cell_type": "code",
   "execution_count": 6,
   "id": "d50a0045-c04b-4bc5-92c2-fd12d6eb77f2",
   "metadata": {},
   "outputs": [
    {
     "data": {
      "text/plain": [
       "6"
      ]
     },
     "execution_count": 6,
     "metadata": {},
     "output_type": "execute_result"
    }
   ],
   "source": [
    "next(Z)"
   ]
  },
  {
   "cell_type": "code",
   "execution_count": 7,
   "id": "7b9fb8c1-aecb-4d08-ac00-127ec5e22545",
   "metadata": {},
   "outputs": [
    {
     "data": {
      "text/plain": [
       "8"
      ]
     },
     "execution_count": 7,
     "metadata": {},
     "output_type": "execute_result"
    }
   ],
   "source": [
    "next(Z)"
   ]
  },
  {
   "cell_type": "code",
   "execution_count": 8,
   "id": "35292e5e-6811-418c-b724-e3d836a3501f",
   "metadata": {},
   "outputs": [
    {
     "data": {
      "text/plain": [
       "10"
      ]
     },
     "execution_count": 8,
     "metadata": {},
     "output_type": "execute_result"
    }
   ],
   "source": [
    "next(Z)"
   ]
  },
  {
   "cell_type": "code",
   "execution_count": 10,
   "id": "1faea9de-1717-4803-83ae-2e6041949b8e",
   "metadata": {},
   "outputs": [
    {
     "name": "stdout",
     "output_type": "stream",
     "text": [
      "The even numbers in list are :  56 84 86 96 94 102 "
     ]
    }
   ],
   "source": [
    "\"\"\"Q4. What is a generator function in python? Why yield keyword is used? Give an example of a generator\n",
    "function.\"\"\"\n",
    "\"\"\"Answer -  a generator function is a function that returns an iterator that produces a sequence of values when iterated\n",
    "over.\n",
    "Generator functions allow to declare a function that behaves like an iterator.\n",
    "The yield keyword in Python controls the flow of a generator function. Yield keyword is used to create a generator \n",
    "function.\"\"\"\n",
    "n=[25,56,84,55,11,86,91,95,96,94,102,101]\n",
    "def even(n):\n",
    "\tfor i in n:\n",
    "\t\tif i % 2 == 0:\n",
    "\t\t\tyield i\n",
    "print(\"The even numbers in list are : \", end=\" \")\n",
    "for j in even(n):\n",
    "\tprint(j, end=\" \")\n"
   ]
  },
  {
   "cell_type": "code",
   "execution_count": 1,
   "id": "21e0f9b8-9dd3-4720-8cd7-7c534e41ec99",
   "metadata": {},
   "outputs": [
    {
     "name": "stdout",
     "output_type": "stream",
     "text": [
      "2\n",
      "3\n",
      "5\n",
      "7\n",
      "11\n",
      "13\n",
      "17\n",
      "19\n",
      "23\n",
      "29\n",
      "31\n",
      "37\n",
      "41\n",
      "43\n",
      "47\n",
      "53\n",
      "59\n",
      "61\n",
      "67\n",
      "71\n"
     ]
    }
   ],
   "source": [
    "\"\"\"Q5. Create a generator function for prime numbers less than 1000. Use the next() method to print the\n",
    "first 20 prime numbers.\"\"\"\n",
    "def primes():\n",
    "    primes = []\n",
    "    for num in range(2, 1000):\n",
    "        if all(num % i != 0 for i in range(2, int(num ** 0.5) + 1)):\n",
    "            primes.append(num)\n",
    "            yield num\n",
    "\n",
    "primes_num= primes()\n",
    "\n",
    "for i in range(20):\n",
    "    print(next(primes_num))"
   ]
  },
  {
   "cell_type": "code",
   "execution_count": 13,
   "id": "e323cca8-4b29-4a7e-995f-0f8fe6d833c7",
   "metadata": {},
   "outputs": [
    {
     "name": "stdout",
     "output_type": "stream",
     "text": [
      "0\n",
      "1\n",
      "1\n",
      "2\n",
      "3\n",
      "5\n",
      "8\n",
      "13\n",
      "21\n",
      "34\n"
     ]
    }
   ],
   "source": [
    "\"\"\"Q6. Write a python program to print the first 10 Fibonacci numbers using a while loop.\"\"\"\n",
    "def Fib():\n",
    "    Z,X=0,1\n",
    "    while True:\n",
    "        yield Z\n",
    "        Z,X=X,Z+X\n",
    "FIB=Fib()\n",
    "for i in range (10):\n",
    "    print(next(FIB))"
   ]
  },
  {
   "cell_type": "code",
   "execution_count": 3,
   "id": "a77bb9f9-3cd5-4c4f-97fe-2b69e6034c4a",
   "metadata": {},
   "outputs": [
    {
     "data": {
      "text/plain": [
       "['p', 'w', 's', 'k', 'i', 'l', 'l', 's']"
      ]
     },
     "execution_count": 3,
     "metadata": {},
     "output_type": "execute_result"
    }
   ],
   "source": [
    "#Q7. Write a List Comprehension to iterate through the given string: ‘pwskills’.\n",
    "#Expected output: ['p', 'w', 's', 'k', 'i', 'l', 'l', 's']\n",
    "\n",
    "Z= 'pwskills'\n",
    "\n",
    "list(map(lambda Z: Z.lower(), Z))"
   ]
  },
  {
   "cell_type": "code",
   "execution_count": 7,
   "id": "5fb02f77-91fe-4bb8-a9d4-99de5abb21b0",
   "metadata": {},
   "outputs": [
    {
     "name": "stdin",
     "output_type": "stream",
     "text": [
      "Enter a number: 56565\n"
     ]
    },
    {
     "name": "stdout",
     "output_type": "stream",
     "text": [
      "The Digits is a palindrome\n"
     ]
    }
   ],
   "source": [
    "\"\"\"Q8. Write a python program to check whether a given number is Palindrome or not using a while loop.\"\"\"\n",
    "A=input((\"Enter a number:\"))\n",
    "if(A==A[::-1]):\n",
    "      print(\"The Digits is a palindrome\")\n",
    "else:\n",
    "      print(\"Not a palindrome\")"
   ]
  },
  {
   "cell_type": "code",
   "execution_count": 12,
   "id": "ecdc4d39-43d1-4d23-816a-0152bbf3ce1f",
   "metadata": {},
   "outputs": [
    {
     "name": "stdout",
     "output_type": "stream",
     "text": [
      "[1, 2, 3, 4, 5, 6, 7, 8, 9, 10, 11, 12, 13, 14, 15, 16, 17, 18, 19, 20, 21, 22, 23, 24, 25, 26, 27, 28, 29, 30, 31, 32, 33, 34, 35, 36, 37, 38, 39, 40, 41, 42, 43, 44, 45, 46, 47, 48, 49, 50, 51, 52, 53, 54, 55, 56, 57, 58, 59, 60, 61, 62, 63, 64, 65, 66, 67, 68, 69, 70, 71, 72, 73, 74, 75, 76, 77, 78, 79, 80, 81, 82, 83, 84, 85, 86, 87, 88, 89, 90, 91, 92, 93, 94, 95, 96, 97, 98, 99, 100]\n"
     ]
    },
    {
     "data": {
      "text/plain": [
       "[1,\n",
       " 3,\n",
       " 5,\n",
       " 7,\n",
       " 9,\n",
       " 11,\n",
       " 13,\n",
       " 15,\n",
       " 17,\n",
       " 19,\n",
       " 21,\n",
       " 23,\n",
       " 25,\n",
       " 27,\n",
       " 29,\n",
       " 31,\n",
       " 33,\n",
       " 35,\n",
       " 37,\n",
       " 39,\n",
       " 41,\n",
       " 43,\n",
       " 45,\n",
       " 47,\n",
       " 49,\n",
       " 51,\n",
       " 53,\n",
       " 55,\n",
       " 57,\n",
       " 59,\n",
       " 61,\n",
       " 63,\n",
       " 65,\n",
       " 67,\n",
       " 69,\n",
       " 71,\n",
       " 73,\n",
       " 75,\n",
       " 77,\n",
       " 79,\n",
       " 81,\n",
       " 83,\n",
       " 85,\n",
       " 87,\n",
       " 89,\n",
       " 91,\n",
       " 93,\n",
       " 95,\n",
       " 97,\n",
       " 99]"
      ]
     },
     "execution_count": 12,
     "metadata": {},
     "output_type": "execute_result"
    }
   ],
   "source": [
    "\"\"\"Q9. Write a code to print odd numbers from 1 to 100 using list comprehension.\n",
    "Note: Use a list comprehension to create a list from 1 to 100 and use another List comprehension to filter\n",
    "out odd numbers.\"\"\"\n",
    "M=range(1,101)\n",
    "print(list(M))\n",
    "list(filter(lambda x:x%2!=0, M1))"
   ]
  },
  {
   "cell_type": "code",
   "execution_count": null,
   "id": "ce6b7d7e-67f6-4cf6-b24b-5195f9526d3b",
   "metadata": {},
   "outputs": [],
   "source": []
  }
 ],
 "metadata": {
  "kernelspec": {
   "display_name": "Python 3 (ipykernel)",
   "language": "python",
   "name": "python3"
  },
  "language_info": {
   "codemirror_mode": {
    "name": "ipython",
    "version": 3
   },
   "file_extension": ".py",
   "mimetype": "text/x-python",
   "name": "python",
   "nbconvert_exporter": "python",
   "pygments_lexer": "ipython3",
   "version": "3.10.8"
  }
 },
 "nbformat": 4,
 "nbformat_minor": 5
}
