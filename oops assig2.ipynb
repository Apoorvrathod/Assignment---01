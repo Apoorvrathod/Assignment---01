{
 "cells": [
  {
   "cell_type": "code",
   "execution_count": 2,
   "id": "82e0d18f-5c88-4013-af8f-a67ad5141591",
   "metadata": {},
   "outputs": [
    {
     "name": "stdout",
     "output_type": "stream",
     "text": [
      "that taste good\n",
      "but very spicy\n"
     ]
    }
   ],
   "source": [
    "#Q1. What is Abstraction in OOps? Explain with an example.\n",
    "\"\"\"An abstract class can be considered as a blueprint for other classes. It allows you to create a set of methods that\n",
    "must be created within any child classes built from the abstract class. A class which contains one or more abstract \n",
    "methods is called an abstract class\"\"\"\n",
    "import abc\n",
    "from abc import ABC, abstractmethod\n",
    " \n",
    "class resturent(ABC):\n",
    "    def menu(self):\n",
    "        print(\"that taste good\")\n",
    "        \n",
    "class food(resturent):\n",
    "    def menu(self):\n",
    "        super().menu()\n",
    "        print(\"but very spicy\")\n",
    "\n",
    "Food = food()\n",
    "Food.menu()"
   ]
  },
  {
   "cell_type": "code",
   "execution_count": 16,
   "id": "b028dbf9-4e79-41da-89a8-89c1d3952137",
   "metadata": {},
   "outputs": [
    {
     "name": "stdout",
     "output_type": "stream",
     "text": [
      "I love History of shiva ji\n",
      "I never read this mutch pages  150\n",
      "I love love story\n",
      "I never read this mutch pages  90\n",
      "I love sanskrit\n",
      "I never read this mutch pages  100\n",
      "I love general apptitude\n",
      "I never read this mutch pages  525\n"
     ]
    }
   ],
   "source": [
    "#Q2. Differentiate between Abstraction and Encapsulation. Explain with an example.\n",
    "\"\"\"Abstraction is the process of hiding complex implementation details and exposing only the necessary functionalities \n",
    "to the users.\"\"\"\n",
    "\"\"\"Encapsulation is the process of wrapping data and methods into a single unit, called class, and\n",
    "restricting their access from outside.It helps to achieve data hiding and prevents data from being modified accidentally.\"\"\" \n",
    "# Encapsulation\n",
    "class library:\n",
    "    def __init__(self, name, type_of_book, pages):\n",
    "        self.name = name\n",
    "        self.type_of_book = type_of_book\n",
    "        self.pages = pages\n",
    "\n",
    "    def gener(self):\n",
    "        print(\"I love \" +self.name)\n",
    "        print(\"I never read this mutch pages \", +self.pages)\n",
    "\n",
    "st1 = library(\"History of shiva ji\", \"history\", 150)\n",
    "st2 = library(\"love story\",\"romentic\", 90)\n",
    "st3 = library(\"sanskrit\", \"language\", 100)\n",
    "st4 = library(\"general apptitude\", \"math\", 525)\n",
    "\n",
    "st1.gener()\n",
    "st2.gener()\n",
    "st3.gener()\n",
    "st4.gener()"
   ]
  },
  {
   "cell_type": "code",
   "execution_count": null,
   "id": "ef0a5270-8288-4219-8bf7-013234c7e780",
   "metadata": {},
   "outputs": [],
   "source": [
    "#Q3. What is abc module in python? Why is it used?\n",
    "\"\"\"The main goal of the abstract base class is to provide a standardized way to test whether an object adheres to a given \n",
    "specification.It can also prevent any attempt to instantiate a subclass that doesn’t override a particular method in the \n",
    "superclass.\"\"\"\n",
    "\"\"\"They provide a blueprint for concrete classes. They are just defined but not implemented rather they require subclasses\n",
    "for implementation.\"\"\""
   ]
  },
  {
   "cell_type": "code",
   "execution_count": null,
   "id": "99f5108a-c8fc-452b-9bc2-cb84a763c71a",
   "metadata": {},
   "outputs": [],
   "source": [
    "#Q4. How can we achieve data abstraction.\n",
    "\"\"\"Data abstraction can be achieved through a variety of techniques. One common technique is encapsulation, which involves \n",
    "hiding the implementation details of a class or data structure behind a public interface. Another technique is modularity, \n",
    "which involves breaking large systems down into smaller, more manageable pieces. This can make it easier to reason about the \n",
    "system, and can also make it easier to modify or extend the system in the future.\"\"\""
   ]
  },
  {
   "cell_type": "code",
   "execution_count": null,
   "id": "b12c8a7e-e789-486e-8725-7f9c964768d8",
   "metadata": {},
   "outputs": [],
   "source": [
    "#Q5. Can we create an instance of an abstract class? Explain your answer.\n",
    "\"\"\"An abstract class is incomplete and contains unimplemented methods, it cannot be instantiated directly. Attempting to \n",
    "create an instance of an abstract class will result in a compilation error in most programming languages. Instead, we must \n",
    "first create a concrete subclass of the abstract class and then instantiate that subclass.\"\"\"\n",
    "\"\"\"The purpose of an abstract class is to provide a common interface or contract that its subclasses must implement.\"\"\""
   ]
  }
 ],
 "metadata": {
  "kernelspec": {
   "display_name": "Python 3 (ipykernel)",
   "language": "python",
   "name": "python3"
  },
  "language_info": {
   "codemirror_mode": {
    "name": "ipython",
    "version": 3
   },
   "file_extension": ".py",
   "mimetype": "text/x-python",
   "name": "python",
   "nbconvert_exporter": "python",
   "pygments_lexer": "ipython3",
   "version": "3.10.8"
  }
 },
 "nbformat": 4,
 "nbformat_minor": 5
}
