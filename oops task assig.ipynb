{
 "cells": [
  {
   "cell_type": "code",
   "execution_count": 2,
   "id": "96fbc684-ad35-4206-9fa7-559863899d7d",
   "metadata": {},
   "outputs": [
    {
     "name": "stdout",
     "output_type": "stream",
     "text": [
      "fortuner 240 18\n"
     ]
    }
   ],
   "source": [
    "\"\"\"Q1.Create a vehicle class with an init method having instance variables as name_of_vehicle, max_speed\n",
    "and average_of_vehicle.\"\"\"\n",
    "class Vehicle:\n",
    "    def __init__(self,name_of_vehicle, max_speed, average_of_vehicle):\n",
    "        self.name_of_vehicle=name_of_vehicle\n",
    "        self.max_speed = max_speed\n",
    "        self.average_of_vehicle = average_of_vehicle\n",
    "\n",
    "modeltop = Vehicle(\"fortuner\",240, 18)\n",
    "print(modeltop.name_of_vehicle,modeltop.max_speed, modeltop.average_of_vehicle)"
   ]
  },
  {
   "cell_type": "code",
   "execution_count": 12,
   "id": "a27d971b-195a-46a8-b0c7-622591582955",
   "metadata": {},
   "outputs": [
    {
     "data": {
      "text/plain": [
       "'The seating capacity of a maxo is 50 passengers'"
      ]
     },
     "execution_count": 12,
     "metadata": {},
     "output_type": "execute_result"
    }
   ],
   "source": [
    "\"\"\"Q2.Create a child class car from the vehicle class created in Que 1, which will inherit the vehicle class.\n",
    "Create a method named seating_capacity which takes capacity as an argument and returns the name of\n",
    "the vehicle and its seating capacity.\"\"\"\n",
    "class Vehicle:\n",
    "    def __init__(self,name_of_vehicle, max_speed, average_of_vehicle):\n",
    "        self.name_of_vehicle=name_of_vehicle\n",
    "        self.max_speed = max_speed\n",
    "        self.average_of_vehicle = average_of_vehicle\n",
    "        \n",
    "    def seating_capacity(self, capacity):\n",
    "        return f\"The seating capacity of a {self.name} is {capacity} passengers\"\n",
    "    \n",
    "class car(Vehicle):\n",
    "    def seating_capacity(self, capacity=50):\n",
    "        return f\"The seating capacity of a {self.name_of_vehicle} is {capacity} passengers\"\n",
    "car(\"maxo\", 120, 2990).seating_capacity()\n",
    "    "
   ]
  },
  {
   "cell_type": "code",
   "execution_count": 15,
   "id": "71c3e0c3-af75-4d70-9647-7e1fe5b227fe",
   "metadata": {},
   "outputs": [
    {
     "name": "stdout",
     "output_type": "stream",
     "text": [
      "In section of classes\n"
     ]
    }
   ],
   "source": [
    "\"\"\"Q3. What is multiple inheritance? Write a python code to demonstrate multiple inheritance.\"\"\"\n",
    "# When a class is derived from more than one base class it is called multiple Inheritance.\n",
    "class School:\n",
    "    def School(self):\n",
    "        print(\"In School\")\n",
    "        \n",
    "class Sub_class(School):\n",
    "    def Sub_class(self):\n",
    "        print(\"In sub class\")\n",
    "        \n",
    "class section(School):\n",
    "    def section(self):\n",
    "        print(\"In section of classes\") \n",
    "        \n",
    "class sub_section(Sub_class, section):\n",
    "    pass  \n",
    "     \n",
    "obj = sub_section()\n",
    "obj.section()"
   ]
  },
  {
   "cell_type": "code",
   "execution_count": 21,
   "id": "e29088e1-f52f-4243-85ab-88600114ff89",
   "metadata": {},
   "outputs": [
    {
     "name": "stdout",
     "output_type": "stream",
     "text": [
      "51\n",
      "21\n"
     ]
    }
   ],
   "source": [
    "\"\"\"Q4. What are getter and setter in python? Create a class and create a getter and a setter method in this\n",
    "class.\"\"\"\n",
    "# the main purpose of using getters and setters in object-oriented programs is to ensure data encapsulation.\n",
    "# We use getters & setters to add validation logic around getting and setting a value.\n",
    "# To avoid direct access of a class field i.e. private variables cannot be accessed directly or modified by external user\n",
    "class university:\n",
    "    def __init__(self, branchs = 51):\n",
    "         self._branchs = branchs\n",
    "      \n",
    "    def get_branchs(self):\n",
    "        return self._branchs\n",
    "      \n",
    "    def set_numbers(self, x):\n",
    "        self._numbers = x\n",
    "        \n",
    "UPES = university()\n",
    "\n",
    "UPES.set_numbers(21)\n",
    "\n",
    "print(UPES.get_branchs())\n",
    "  \n",
    "print(UPES._numbers)"
   ]
  },
  {
   "cell_type": "code",
   "execution_count": 22,
   "id": "0a336864-8d54-47c5-a2cb-a79a19be3eb0",
   "metadata": {},
   "outputs": [],
   "source": [
    "\"\"\"Q5.What is method overriding in python? Write a python code to demonstrate method overriding.\"\"\"\n",
    "# Answer\n",
    "\"\"\" a child class method overrides(or, provides it's own implementation) the parent class method of the same\n",
    "name, parameters and return type, it is known as method overriding.\"\"\"\n",
    "class building:\n",
    "    Storage = \"multi storage building 55 floor\"\n",
    " \n",
    "    def no_of_enternce(self):\n",
    "        print(\"there is mainly 2 entraince and 2 emergency enterance.\")\n",
    "\n",
    "    def no_of_connected_building(self):\n",
    "        print(\"planning to connect 4 building right now 2 is connected\")\n",
    "\n",
    "class types(building):\n",
    "    multinational = \"5 stars and company building\"\n",
    "\n",
    "    def hospital(self):\n",
    "        print(\"there is an hospital almost 0.5 km distance\")\n",
    "\n",
    "    def Station(self):\n",
    "        print(\"one fire station situated toward north 1 km.\")\n"
   ]
  },
  {
   "cell_type": "code",
   "execution_count": 24,
   "id": "0971b7d2-c165-4e49-91d1-2073d531e344",
   "metadata": {},
   "outputs": [
    {
     "name": "stdout",
     "output_type": "stream",
     "text": [
      "there is an hospital almost 0.5 km distance\n",
      "planning to connect 4 building right now 2 is connected\n",
      "there is mainly 2 entraince and 2 emergency enterance.\n"
     ]
    }
   ],
   "source": [
    "types_of_building = types() \n",
    " \n",
    "types_of_building .hospital() \n",
    "\n",
    "types_of_building.no_of_connected_building() \n",
    "\n",
    "types_of_building .no_of_enternce()"
   ]
  },
  {
   "cell_type": "code",
   "execution_count": null,
   "id": "0dff7e6e-0656-441f-ab42-fff4fc456a03",
   "metadata": {},
   "outputs": [],
   "source": []
  }
 ],
 "metadata": {
  "kernelspec": {
   "display_name": "Python 3 (ipykernel)",
   "language": "python",
   "name": "python3"
  },
  "language_info": {
   "codemirror_mode": {
    "name": "ipython",
    "version": 3
   },
   "file_extension": ".py",
   "mimetype": "text/x-python",
   "name": "python",
   "nbconvert_exporter": "python",
   "pygments_lexer": "ipython3",
   "version": "3.10.8"
  }
 },
 "nbformat": 4,
 "nbformat_minor": 5
}
