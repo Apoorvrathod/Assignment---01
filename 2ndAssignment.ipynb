{
 "cells": [
  {
   "cell_type": "code",
   "execution_count": 1,
   "id": "4254b333-9082-494f-91f8-964620337522",
   "metadata": {},
   "outputs": [],
   "source": [
    "#Q1. How do you comment code in Python? What are the different types of comments?\n",
    "# we used hash (#) symbol to add comment in python.\n",
    "# comment in python is identifed with hash # Symbol.\n",
    "\"\"\"There are three types of comments thoes are : single-line, multi-line, and docstring comments. multiple line comment are used\n",
    "to comment multiple line and are used to provide more detailed explantation to temporarily disable a block of code.In Python, there is no official syntax for multi-line comments,\n",
    "but you can use a multi-line string (enclosed in triple quotes ) as a workaround. \"\"\""
   ]
  },
  {
   "cell_type": "code",
   "execution_count": 1,
   "id": "27c9fc69-2d26-4b4f-92ce-5ab81d83396f",
   "metadata": {},
   "outputs": [],
   "source": [
    "# Q2. What are variables in Python? How do you declare and assign values to variables?\n",
    "# variables are used to stored data values, They act as storage containers that store data such as number, test or object.\n",
    "# String are sequence of characters, using the syntax of either single quotes or double quotes.\n",
    "# examples : 'Hello', 'We know that'\n",
    "# Using = operator we can assign values to vaaribles.\n",
    "# Examples:\n",
    "# assigning numerical value:\n",
    "weight = 62 \n",
    "#assigning string values:\n",
    "Name = 'apoorv singh'\n"
   ]
  },
  {
   "cell_type": "code",
   "execution_count": 3,
   "id": "5404320b-9fb1-4cde-b1ba-66590694d44d",
   "metadata": {},
   "outputs": [],
   "source": [
    "# Q3. How do you convert one data type to another in Python?\n",
    "# We can used the type name as a function to convert one data type to another.\n",
    "\"\"\"we can convert one data type to another using type conversion functions and methods or typecasting. \n",
    "Here are some commonly used methods for type conversion:\"\"\"\n",
    "#int(): Converts a value to an integer.\n",
    "#float(): Converts a value to a floating-point number.\n",
    "# Example:\n",
    "A = 15"
   ]
  },
  {
   "cell_type": "code",
   "execution_count": 4,
   "id": "bbfea1f8-eea0-4f9e-969c-f660255a1859",
   "metadata": {},
   "outputs": [
    {
     "data": {
      "text/plain": [
       "15.0"
      ]
     },
     "execution_count": 4,
     "metadata": {},
     "output_type": "execute_result"
    }
   ],
   "source": [
    "float(A)"
   ]
  },
  {
   "cell_type": "code",
   "execution_count": 28,
   "id": "bf358e56-74e2-49ed-9196-da54746afc84",
   "metadata": {},
   "outputs": [],
   "source": [
    "# Q4. How do you write and execute a Python script from the command line?\n",
    "\"\"\"1. Open a text editor and create a new file with a .py extension. For example, you can create a file named script.py.\n",
    "2. Write your Python code in the file, using any text editor or integrated development environment (IDE). \n",
    "3. Save the file.\n",
    "4. Open a command prompt or terminal window.\n",
    "5. Navigate to the directory where you saved your Python script using the cd command. For example, if your script is saved in the \n",
    "Documents folder, you would use the following command: cd document\n",
    "6. Once you're in the correct directory, you can execute the Python script by typing python followed by the script's filename. \n",
    "For example: python script.py  \"\"\""
   ]
  },
  {
   "cell_type": "code",
   "execution_count": 6,
   "id": "e235cba6-cea4-4102-b0f3-0c7aaff70ff5",
   "metadata": {},
   "outputs": [
    {
     "name": "stdout",
     "output_type": "stream",
     "text": [
      "[2, 3]\n"
     ]
    }
   ],
   "source": [
    "# Q5. Given a list my_list = [1, 2, 3, 4, 5], write the code to slice the list and obtain the sub-list [2, 3].\n",
    "my_list = [1, 2, 3, 4, 5]\n",
    "subl_ist = print(my_list[1:3])"
   ]
  },
  {
   "cell_type": "code",
   "execution_count": 37,
   "id": "a3d126b6-7c70-4b58-b755-6e9b443e1c30",
   "metadata": {},
   "outputs": [],
   "source": [
    "# Q6. What is a complex number in mathematics, and how is it represented in Python?\n",
    "# complex number can be expressed as a+ib, where a and b are real number and 'i' is imaginary number called iota.\n",
    "# In python complex number can be expresed as a+jb, where a and b are real number and 'i' is imaginary number.\n",
    "# example:\n",
    "A = 45+5j"
   ]
  },
  {
   "cell_type": "code",
   "execution_count": null,
   "id": "ca733208-d55b-4e50-ac3f-e4e7ed5200f2",
   "metadata": {},
   "outputs": [
    {
     "data": {
      "text/plain": [
       "(45+5j)"
      ]
     },
     "execution_count": 38,
     "metadata": {},
     "output_type": "execute_result"
    }
   ],
   "source": [
    "A"
   ]
  },
  {
   "cell_type": "code",
   "execution_count": 39,
   "id": "a6e72c7d-4366-4684-91ad-fb7af6fee3e1",
   "metadata": {},
   "outputs": [
    {
     "data": {
      "text/plain": [
       "complex"
      ]
     },
     "execution_count": 39,
     "metadata": {},
     "output_type": "execute_result"
    }
   ],
   "source": [
    "type(A)"
   ]
  },
  {
   "cell_type": "code",
   "execution_count": 7,
   "id": "bff98e88-e0f6-46d2-aa2c-f1869a61a50d",
   "metadata": {},
   "outputs": [],
   "source": [
    "# Q7. What is the correct way to declare a variable named age and assign the value 25 to it?\n",
    "age = 25"
   ]
  },
  {
   "cell_type": "code",
   "execution_count": 8,
   "id": "f892ddbd-5539-4aeb-ba2b-1684270d7d2b",
   "metadata": {},
   "outputs": [
    {
     "data": {
      "text/plain": [
       "25"
      ]
     },
     "execution_count": 8,
     "metadata": {},
     "output_type": "execute_result"
    }
   ],
   "source": [
    "age"
   ]
  },
  {
   "cell_type": "code",
   "execution_count": 41,
   "id": "298abdae-986a-4735-be8e-ee2f3e3e35b5",
   "metadata": {},
   "outputs": [],
   "source": [
    "# Q8. Declare a variable named price and assign the value 9.99 to it. What data type does this variable belong to?\n",
    "price = 9.99\n",
    "# this belong to Float data type."
   ]
  },
  {
   "cell_type": "code",
   "execution_count": 42,
   "id": "3435ff87-95d5-4328-bb7e-06cbcc16ff26",
   "metadata": {},
   "outputs": [
    {
     "data": {
      "text/plain": [
       "float"
      ]
     },
     "execution_count": 42,
     "metadata": {},
     "output_type": "execute_result"
    }
   ],
   "source": [
    "type(price)"
   ]
  },
  {
   "cell_type": "code",
   "execution_count": 46,
   "id": "02facbf4-680e-4753-b7c6-54a8e7808285",
   "metadata": {},
   "outputs": [
    {
     "name": "stdout",
     "output_type": "stream",
     "text": [
      "Apoorv Kumar Singh\n"
     ]
    }
   ],
   "source": [
    "#Q9. Create a variable named name and assign your full name to it as a string. How would you print the value of this variable?\n",
    "name = 'Apoorv Kumar Singh'\n",
    "print(name)"
   ]
  },
  {
   "cell_type": "code",
   "execution_count": 52,
   "id": "9eb9b24a-74b9-497f-86ef-d658c34a901f",
   "metadata": {},
   "outputs": [
    {
     "name": "stdout",
     "output_type": "stream",
     "text": [
      "World!\n"
     ]
    }
   ],
   "source": [
    "# Q10. Given the string \"Hello, World!\", extract the substring \"World\".\n",
    "string= 'Hello, World!'\n",
    "print(string[7:])"
   ]
  },
  {
   "cell_type": "code",
   "execution_count": 9,
   "id": "75f4a432-1f11-4d9a-b9bd-4fc2330f21c0",
   "metadata": {},
   "outputs": [],
   "source": [
    "# Q11. Create a variable named \"is_student\" and assign it a boolean value indicating whether you are currently a student or not.\n",
    "is_student = True"
   ]
  },
  {
   "cell_type": "code",
   "execution_count": 10,
   "id": "dd4bc9fe-c4b0-46fd-9e4a-ddfd1c4eaebc",
   "metadata": {},
   "outputs": [
    {
     "data": {
      "text/plain": [
       "True"
      ]
     },
     "execution_count": 10,
     "metadata": {},
     "output_type": "execute_result"
    }
   ],
   "source": [
    "is_student"
   ]
  },
  {
   "cell_type": "code",
   "execution_count": null,
   "id": "ca4f77d9-4637-4a36-8106-8097b5a0c858",
   "metadata": {},
   "outputs": [],
   "source": []
  }
 ],
 "metadata": {
  "kernelspec": {
   "display_name": "Python 3 (ipykernel)",
   "language": "python",
   "name": "python3"
  },
  "language_info": {
   "codemirror_mode": {
    "name": "ipython",
    "version": 3
   },
   "file_extension": ".py",
   "mimetype": "text/x-python",
   "name": "python",
   "nbconvert_exporter": "python",
   "pygments_lexer": "ipython3",
   "version": "3.10.8"
  }
 },
 "nbformat": 4,
 "nbformat_minor": 5
}
