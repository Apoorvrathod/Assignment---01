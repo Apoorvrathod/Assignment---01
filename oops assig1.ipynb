{
 "cells": [
  {
   "cell_type": "code",
   "execution_count": 2,
   "id": "547920d2-25f7-42ad-b6a3-3a131d2e41b2",
   "metadata": {},
   "outputs": [
    {
     "name": "stdout",
     "output_type": "stream",
     "text": [
      "Name: modern St. xavier, section: 10 \n"
     ]
    }
   ],
   "source": [
    "#Q1. Explain Class and Object with respect to Object-Oriented Programming. Give a suitable example.\n",
    "\"\"\" Answer - a class is an blueprint of an object that describe what a specific kind of object look like.\n",
    "- that define the variables and the methods common to all objects of a certain kind.\n",
    "- its help us to bind data and method together, making the code reusable.\"\"\"\n",
    "\"\"\"Answer - object is a single instance of a class, which contain data and methods working on that data.\n",
    "-object consist of three things-name,member data,member method\"\"\"\n",
    "class school:\n",
    "    name = \"st.xavier\"\n",
    "    section = 12\n",
    "\n",
    "Sch1 = school()\n",
    "\n",
    "Sch1.section = 10\n",
    "Sch1.name = \"modern St. xavier\"\n",
    "\n",
    "print(f\"Name: {Sch1.name}, section: {Sch1.section} \")"
   ]
  },
  {
   "cell_type": "code",
   "execution_count": null,
   "id": "2c9d3c85-e3f5-4509-97f9-260a42db4d86",
   "metadata": {},
   "outputs": [],
   "source": [
    "\"\"\"Q2. Name the four pillars of OOPs.\"\"\"\n",
    "#Encapsulation\n",
    "#Abstraction\n",
    "#Inheritance\n",
    "#Polymorphism"
   ]
  },
  {
   "cell_type": "code",
   "execution_count": 3,
   "id": "34851884-5a6d-4d08-958d-b08196c4004c",
   "metadata": {},
   "outputs": [],
   "source": [
    "#Q3. Explain why the __init__() function is used. Give a suitable example.\n",
    "\"\"\"__init__ is used to initialize the object's attributes when an object is created from a class. It is called automatically\n",
    "when an object is instantiated, and can be used to set the initial values of the object's attributes.\"\"\"\n",
    "class animal:\n",
    "    def __init__(self, name, age):\n",
    "        self.name = name\n",
    "        self.age = age\n",
    "\n",
    "animal1 = animal(\"lion\", 12)\n",
    "animal2 = animal(\"pig\", 5)"
   ]
  },
  {
   "cell_type": "code",
   "execution_count": null,
   "id": "8982b5ab-fbd3-411f-8c5e-77866d8ca94d",
   "metadata": {},
   "outputs": [],
   "source": [
    "#Q4. Why self is used in OOPs?\n",
    "\"\"\"self represents the instance of the class. By using the “self”  we can access the attributes and methods of the class \n",
    "in python. It binds the attributes with the given arguments.\"\"\""
   ]
  },
  {
   "cell_type": "code",
   "execution_count": 6,
   "id": "d1f0dd7f-c00a-4e8c-bf07-72e8dfcf0b16",
   "metadata": {},
   "outputs": [
    {
     "name": "stdout",
     "output_type": "stream",
     "text": [
      "many animal in the forest.\n",
      "less bird in the forest.\n"
     ]
    }
   ],
   "source": [
    "#Q5. What is inheritance? Give an example for each type of inheritance.\n",
    "\"\"\"inheritanves is the concept of deriving a new class from an existing class. Using the concept of inheritance we can inherit \n",
    "the properties of the existing class to our new class. The new derived class is called the child class and the existing class\n",
    "is called the parent class.\"\"\"\n",
    "#single\n",
    "class Forest:\n",
    "    def func1(self):\n",
    "        print(\"many animal in the forest.\")\n",
    "\n",
    "class Child(Forest):\n",
    "    def func2(self):\n",
    "        print(\"less bird in the forest.\")\n",
    " \n",
    " \n",
    "object = Child()\n",
    "object.func1()\n",
    "object.func2()\n"
   ]
  },
  {
   "cell_type": "code",
   "execution_count": 14,
   "id": "908bda2b-6c3c-489d-b356-09d260b9020f",
   "metadata": {},
   "outputs": [
    {
     "name": "stdout",
     "output_type": "stream",
     "text": [
      "Father : lion father\n",
      "Mother : lion mother\n"
     ]
    }
   ],
   "source": [
    "# multiple\n",
    "class Animal_mother:\n",
    "\tmothername = \"\"\n",
    "\n",
    "\tdef mother(self):\n",
    "\t\tprint(self.mothername)\n",
    "\n",
    "\n",
    "class Animal_father:\n",
    "\tfathername = \"\"\n",
    "\n",
    "\tdef father(self):\n",
    "\t\tprint(self.fathername)\n",
    "\n",
    "class Animal_son(Animal_mother, Animal_father):\n",
    "\tdef parents(self):\n",
    "\t\tprint(\"Father :\", self.fathername)\n",
    "\t\tprint(\"Mother :\", self.mothername)\n",
    "\n",
    "s1 = Animal_son()\n",
    "s1.fathername = \"lion father\"\n",
    "s1.mothername = \"lion mother\"\n",
    "s1.parents()\n"
   ]
  },
  {
   "cell_type": "code",
   "execution_count": null,
   "id": "48d5807e-87f6-41f7-a6ad-eb48b91e74cb",
   "metadata": {},
   "outputs": [],
   "source": []
  },
  {
   "cell_type": "code",
   "execution_count": null,
   "id": "da6ab37a-8647-4e27-8a01-e524049dbf42",
   "metadata": {},
   "outputs": [],
   "source": []
  }
 ],
 "metadata": {
  "kernelspec": {
   "display_name": "Python 3 (ipykernel)",
   "language": "python",
   "name": "python3"
  },
  "language_info": {
   "codemirror_mode": {
    "name": "ipython",
    "version": 3
   },
   "file_extension": ".py",
   "mimetype": "text/x-python",
   "name": "python",
   "nbconvert_exporter": "python",
   "pygments_lexer": "ipython3",
   "version": "3.10.8"
  }
 },
 "nbformat": 4,
 "nbformat_minor": 5
}
