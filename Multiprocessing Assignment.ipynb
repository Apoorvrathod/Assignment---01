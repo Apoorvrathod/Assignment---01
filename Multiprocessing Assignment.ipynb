{
 "cells": [
  {
   "cell_type": "code",
   "execution_count": null,
   "id": "e246dfd9-f03c-4139-97a0-ddcd2cdcf0af",
   "metadata": {},
   "outputs": [],
   "source": [
    "#Q1. What is multiprocessing in python? Why is it useful?\n",
    "\"\"\"Is a module that allows the execution of multiple processes concurrently, leveraging multiple CPU cores. It provides a way \n",
    "to write parallel and concurrent code by creating and managing separate Python processes. Each process has its own memory space, \n",
    "allowing for true parallelism and efficient utilization of system resources. Multiprocessing is useful when dealing with \n",
    "computationally intensive tasks that can be divided into smaller subtasks, as it can significantly reduce the execution time \n",
    "by distributing the workload across multiple cores.\"\"\""
   ]
  },
  {
   "cell_type": "code",
   "execution_count": null,
   "id": "2617f990-5d6c-4edc-b32b-061276c542bb",
   "metadata": {},
   "outputs": [],
   "source": [
    "#Q2. What are the differences between multiprocessing and multithreading?\n",
    "\"\"\"Execution Model: In multiprocessing, multiple processes are created, and each process has its own memory space and \n",
    "resources. In multithreading, multiple threads are created within a single process, and they share the same memory space.\n",
    "CPU Utilization: Multiprocessing can take advantage of multiple CPU cores and achieve true parallelism, as each process can run\n",
    "on a separate core. Multithreading, on the other hand, can only achieve concurrency, as the threads share the same CPU core and\n",
    "time-slice for execution.\n",
    "Memory Isolation: Each process in multiprocessing has its own memory space, which provides better memory isolation and avoids\n",
    "the need for synchronization mechanisms. In multithreading, threads share the same memory space, which requires careful \n",
    "synchronization to avoid data races and other concurrent access issues.\n",
    "Communication: Inter-process communication (IPC) is required in multiprocessing to exchange data between processes, which\n",
    "can be done using techniques like pipes, queues, or shared memory. In multithreading, communication between threads is \n",
    "simpler since they can directly access shared data\"\"\""
   ]
  },
  {
   "cell_type": "code",
   "execution_count": 1,
   "id": "212a4915-d86e-4913-8d6b-69316dc60cdf",
   "metadata": {},
   "outputs": [
    {
     "name": "stdout",
     "output_type": "stream",
     "text": [
      "safety under supervision\n"
     ]
    }
   ],
   "source": [
    "#Q3. Write a python code to create a process using the multiprocessing module.\n",
    "import multiprocessing\n",
    "\n",
    "def officer():\n",
    "    print(\"safety under supervision\")\n",
    "\n",
    "if __name__ == '__main__':\n",
    "    process = multiprocessing.Process(target=officer)\n",
    "    process.start()\n",
    "    process.join()"
   ]
  },
  {
   "cell_type": "code",
   "execution_count": null,
   "id": "a61f6e66-0cda-40ec-ab25-625dc5986795",
   "metadata": {},
   "outputs": [],
   "source": [
    "#Q4. What is a multiprocessing pool in python? Why is it used?\n",
    "\"\"\"A multiprocessing pool in Python is a convenient way to manage a group of worker processes for parallel execution of tasks.\n",
    "The multiprocessing.Pool class provides a high-level interface to create a pool of worker processes and distribute tasks across\n",
    "them. It abstracts away the details of process creation, management, and communication.\n",
    "A multiprocessing pool is used to parallelize the execution of a function across multiple processes, allowing for efficient \n",
    "utilization of CPU cores and faster execution of tasks. It is particularly useful when the same function needs to be applied \n",
    "to a large number of input values, as the pool automatically divides the work among the available processes.\"\"\""
   ]
  },
  {
   "cell_type": "code",
   "execution_count": 2,
   "id": "1563d94f-0ec0-4ecd-8024-e86b272e5307",
   "metadata": {},
   "outputs": [
    {
     "name": "stdout",
     "output_type": "stream",
     "text": [
      "supervison is going on under:supervison is going on under:supervison is going on under:supervison is going on under:    1423\n",
      "\n",
      "\n",
      "\n"
     ]
    }
   ],
   "source": [
    "#Q5. How can we create a pool of worker processes in python using the multiprocessing module?\n",
    "import multiprocessing\n",
    "\n",
    "def Officer(number):\n",
    "    print(\"supervison is going on under:\", number)\n",
    "\n",
    "if __name__ == '__main__':\n",
    "    pool = multiprocessing.Pool(processes=4)\n",
    "    numbers = [1, 2, 3, 4]\n",
    "    pool.map(Officer, numbers)\n",
    "    pool.close()\n",
    "    pool.join()"
   ]
  },
  {
   "cell_type": "code",
   "execution_count": 3,
   "id": "481a1b99-c071-4501-984d-569f556b7446",
   "metadata": {},
   "outputs": [
    {
     "name": "stdout",
     "output_type": "stream",
     "text": [
      "Process 1Process  2prints  Processprints1  \n",
      "23\n",
      " Processprints  43 \n",
      "prints 4\n"
     ]
    }
   ],
   "source": [
    "#Q6. Write a python program to create 4 processes, each process should print a different number using themultiprocessing module in python.\n",
    "import multiprocessing\n",
    "\n",
    "def officer(number):\n",
    "    print(\"Process\", number, \"prints\", number)\n",
    "\n",
    "if __name__ == '__main__':\n",
    "    processes = []\n",
    "    for i in range(4):\n",
    "        process = multiprocessing.Process(target=officer, args=(i+1,))\n",
    "        processes.append(process)\n",
    "        process.start()\n",
    "\n",
    "    for process in processes:\n",
    "        process.join()"
   ]
  },
  {
   "cell_type": "code",
   "execution_count": null,
   "id": "5efc7720-10dd-468a-8646-d4b30eb3d487",
   "metadata": {},
   "outputs": [],
   "source": []
  }
 ],
 "metadata": {
  "kernelspec": {
   "display_name": "Python 3 (ipykernel)",
   "language": "python",
   "name": "python3"
  },
  "language_info": {
   "codemirror_mode": {
    "name": "ipython",
    "version": 3
   },
   "file_extension": ".py",
   "mimetype": "text/x-python",
   "name": "python",
   "nbconvert_exporter": "python",
   "pygments_lexer": "ipython3",
   "version": "3.10.8"
  }
 },
 "nbformat": 4,
 "nbformat_minor": 5
}
