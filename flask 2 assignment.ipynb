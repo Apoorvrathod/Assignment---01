{
 "cells": [
  {
   "cell_type": "code",
   "execution_count": null,
   "id": "1d5b1cb3-6129-4c8d-a6e3-e5144a3d9376",
   "metadata": {},
   "outputs": [],
   "source": [
    "#Q1. Explain GET and POST methods.\n",
    "\"\"\"GET and POST are HTTP methods used to retrieve (GET) and send (POST) data between a client (such as a web browser) and a \n",
    "server.\n",
    "GET is a safe and idempotent method.\n",
    "It is used to retrieve data from the server.\n",
    "The data is appended to the URL as query parameters.\n",
    "GET requests should not have any side effects on the server.\n",
    "They can be bookmarked and cached by browsers.\n",
    "GET requests should not be used to send sensitive or large amounts of data.\n",
    "POST:\n",
    "POST is a non-idempotent method.\n",
    "It is used to send data to the server.\n",
    "The data is sent in the body of the request.\n",
    "POST requests can have side effects on the server (e.g., creating, updating, or deleting data).\n",
    "They are not cached or bookmarked by browsers.\n",
    "POST requests are more secure for sending sensitive or large amounts of data.\"\"\""
   ]
  },
  {
   "cell_type": "code",
   "execution_count": null,
   "id": "3f4d2014-2c70-4b79-b7d2-0b478306a50c",
   "metadata": {},
   "outputs": [],
   "source": [
    "#Q2. Why is request used in Flask?\n",
    "\"\"\"The request object in Flask allows you to access incoming request data, such as form data, URL parameters, headers, and files. \n",
    "It provides a convenient way to retrieve and handle data sent by a client in an HTTP request.\n",
    "Flask uses the request object to encapsulate the details of the current request being processed by the server. You can access \n",
    "various attributes and methods of the request object to retrieve information about the request, such as the HTTP method, \n",
    "headers, form data, cookies, and more.\"\"\""
   ]
  },
  {
   "cell_type": "code",
   "execution_count": null,
   "id": "c75ba057-e8a6-46e1-b16a-46247498a8a5",
   "metadata": {},
   "outputs": [],
   "source": [
    "#Q3. Why is redirect() used in Flask?\n",
    "\"\"\"By using redirect(), you can send a response to the client with a redirect status code (usually 302) and specify the URL or\n",
    "endpoint to which the client should be redirected. The client's browser will then make a new request to the specified URL, and \n",
    "the server will process that subsequent request.\"\"\""
   ]
  },
  {
   "cell_type": "code",
   "execution_count": null,
   "id": "06e1534b-7aef-417f-8c78-bd75a04b1f1b",
   "metadata": {},
   "outputs": [],
   "source": [
    "#Q4. What are templates in Flask? Why is the render_template() function used?\n",
    "\"\"\"Templates in Flask are files that contain HTML code with placeholders for dynamic content. They allow you to separate the \n",
    "presentation logic from the application logic, making it easier to create dynamic web pages.\n",
    "In Flask, the render_template() function is used to render these templates and generate HTML pages dynamically. It takes the \n",
    "name of the template file and any additional arguments (dynamic data) and returns the rendered HTML.\"\"\""
   ]
  },
  {
   "cell_type": "code",
   "execution_count": null,
   "id": "19ba7687-e251-4dd7-a9a4-57ae6c9243ee",
   "metadata": {},
   "outputs": [],
   "source": [
    "#Q5. Create a simple API. Use Postman to test it. Attach the screenshot of the output in the Jupyter Notebook.\n"
   ]
  }
 ],
 "metadata": {
  "kernelspec": {
   "display_name": "Python 3 (ipykernel)",
   "language": "python",
   "name": "python3"
  },
  "language_info": {
   "codemirror_mode": {
    "name": "ipython",
    "version": 3
   },
   "file_extension": ".py",
   "mimetype": "text/x-python",
   "name": "python",
   "nbconvert_exporter": "python",
   "pygments_lexer": "ipython3",
   "version": "3.9.7"
  }
 },
 "nbformat": 4,
 "nbformat_minor": 5
}
