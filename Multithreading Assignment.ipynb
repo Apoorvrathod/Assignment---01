{
 "cells": [
  {
   "cell_type": "code",
   "execution_count": null,
   "id": "6dc7c8df-025d-47f6-96d1-246586e0bc33",
   "metadata": {},
   "outputs": [],
   "source": [
    "#Q1.what is multithreading in python? hy is it used? Name the module used to handle threads in python.\n",
    "\"\"\"Multithreading in Python is a concurrent programming technique where multiple threads of execution run within a single \n",
    "process. Each thread represents an independent flow of execution, sharing the same memory space of the parent process. \n",
    "Multithreading allows for the concurrent execution of multiple tasks, providing improved responsiveness and efficient \n",
    "utilization of system resources.\n",
    "Multithreading is used in scenarios where tasks can be executed concurrently and involve I/O-bound operations, such as \n",
    "network requests, file operations, or user input/output. It allows for parallel execution of these tasks, thereby reducing \n",
    "the overall execution time and enhancing the responsiveness of the program.\n",
    "The module used to handle threads in Python is called threading. It provides a high-level interface for creating and managing \n",
    "threads within a Python program.\"\"\""
   ]
  },
  {
   "cell_type": "code",
   "execution_count": 1,
   "id": "bd7c80be-a298-4322-89be-503254a9f245",
   "metadata": {},
   "outputs": [
    {
     "name": "stdout",
     "output_type": "stream",
     "text": [
      "officer thread: Thread-5 (officer)\n",
      "officer thread: Thread-6 (officer)\n",
      "Active thread count: 8\n",
      "Current thread: MainThread\n",
      "All threads: [<_MainThread(MainThread, started 140562060310336)>, <Thread(IOPub, started daemon 140561989781056)>, <Heartbeat(Heartbeat, started daemon 140561981388352)>, <Thread(Thread-3 (_watch_pipe_fd), started daemon 140561956210240)>, <Thread(Thread-4 (_watch_pipe_fd), started daemon 140561947817536)>, <ControlThread(Control, started daemon 140561596020288)>, <HistorySavingThread(IPythonHistorySavingThread, started 140561587627584)>, <ParentPollerUnix(Thread-2, started daemon 140561579234880)>]\n"
     ]
    },
    {
     "name": "stderr",
     "output_type": "stream",
     "text": [
      "/tmp/ipykernel_105/704631187.py:24: DeprecationWarning: currentThread() is deprecated, use current_thread() instead\n",
      "  print(\"officer thread:\", threading.currentThread().getName())\n",
      "/tmp/ipykernel_105/704631187.py:24: DeprecationWarning: getName() is deprecated, get the name attribute instead\n",
      "  print(\"officer thread:\", threading.currentThread().getName())\n",
      "/tmp/ipykernel_105/704631187.py:32: DeprecationWarning: activeCount() is deprecated, use active_count() instead\n",
      "  print(\"Active thread count:\", threading.activeCount())\n",
      "/tmp/ipykernel_105/704631187.py:33: DeprecationWarning: currentThread() is deprecated, use current_thread() instead\n",
      "  print(\"Current thread:\", threading.currentThread().getName())\n",
      "/tmp/ipykernel_105/704631187.py:33: DeprecationWarning: getName() is deprecated, get the name attribute instead\n",
      "  print(\"Current thread:\", threading.currentThread().getName())\n"
     ]
    }
   ],
   "source": [
    "\"\"\"Q2.why threading module used? rite the use of the following functions.\n",
    "1.activeCount()\n",
    "2. currentThread()\n",
    "3.enumerate()\"\"\"\n",
    "#Answer\n",
    "\"\"\"The threading module in Python is used to handle threads and provides a higher-level interface for working with threads \n",
    "compared to the lower-level thread module. It offers various functions, classes, and synchronization primitives to facilitate \n",
    "concurrent programming using threads.\n",
    "\n",
    "activeCount(): This function is used to retrieve the number of currently active threads in the program. It returns the number\n",
    "of Thread objects currently alive. It can be useful for monitoring the number of active threads and managing their execution.\n",
    "\n",
    "currentThread(): This function returns the current Thread object corresponding to the caller's thread of execution. It allows \n",
    "you to obtain a reference to the currently executing thread. This can be helpful for identifying and accessing the properties\n",
    "or methods of the current thread, such as its name or identification number.\n",
    "\n",
    "enumerate(): This function returns a list of all Thread objects currently alive. It provides a convenient way to obtain \n",
    "references to all active threads, allowing you to inspect or manipulate them as needed. The returned list includes both \n",
    "daemon and non-daemon threads. Each thread can be examined individually, and its attributes accessed or modified.\"\"\"\n",
    " \n",
    "import threading\n",
    "\n",
    "def officer():\n",
    "    print(\"officer thread:\", threading.currentThread().getName())\n",
    "\n",
    "if __name__ == '__main__':\n",
    "    thread1 = threading.Thread(target=officer)\n",
    "    thread2 = threading.Thread(target=officer)\n",
    "    thread1.start()\n",
    "    thread2.start()\n",
    "\n",
    "    print(\"Active thread count:\", threading.activeCount())\n",
    "    print(\"Current thread:\", threading.currentThread().getName())\n",
    "    print(\"All threads:\", threading.enumerate())"
   ]
  },
  {
   "cell_type": "code",
   "execution_count": 3,
   "id": "96eca2d1-7586-4bd2-9cc5-296016549cc5",
   "metadata": {},
   "outputs": [
    {
     "data": {
      "text/plain": [
       "\"run(): The run() method is responsible for the actual execution of the thread's logic or target function. It is automatically\\ncalled when a thread is started using the start() method. By default, the run() method of the Thread class does nothing, so it\\nis often overridden in a subclass to define the specific behavior that should occur when the thread is started.\\n\\nstart(): The start() method is used to start the execution of a thread. It initiates the thread's run-time activities by \\ncalling the run() method in a separate thread of execution. When start() is invoked, the thread is scheduled for execution by \\nthe Python interpreter. It does not block the current thread and allows the newly created thread to run concurrently.\\n\\njoin(): The join() method is used to wait for the completion of a thread. When called on a thread object, it blocks the \\nexecution of the calling thread until the target thread completes its execution or until a specified timeout occurs. It \\nensures that the main thread or the calling thread waits for the completion of the joined thread before proceeding further.\\n\\nisAlive(): The isAlive() method is used to check if a thread is currently executing. It returns True if the thread is still \\nrunning or False if it has completed its execution or has not been started yet. This method is often used to check the status\\nof a thread before performing certain actions based on its current state.\""
      ]
     },
     "execution_count": 3,
     "metadata": {},
     "output_type": "execute_result"
    }
   ],
   "source": [
    "\"\"\"Q3. Explain the following functions\n",
    "1.run()\n",
    "2.start()\n",
    "3.join()\n",
    "4.isAlive()\n",
    "4.isAlive()\"\"\"\n",
    "# answer\n",
    "\"\"\"run(): The run() method is responsible for the actual execution of the thread's logic or target function. It is automatically\n",
    "called when a thread is started using the start() method. By default, the run() method of the Thread class does nothing, so it\n",
    "is often overridden in a subclass to define the specific behavior that should occur when the thread is started.\n",
    "\n",
    "start(): The start() method is used to start the execution of a thread. It initiates the thread's run-time activities by \n",
    "calling the run() method in a separate thread of execution. When start() is invoked, the thread is scheduled for execution by \n",
    "the Python interpreter. It does not block the current thread and allows the newly created thread to run concurrently.\n",
    "\n",
    "join(): The join() method is used to wait for the completion of a thread. When called on a thread object, it blocks the \n",
    "execution of the calling thread until the target thread completes its execution or until a specified timeout occurs. It \n",
    "ensures that the main thread or the calling thread waits for the completion of the joined thread before proceeding further.\n",
    "\n",
    "isAlive(): The isAlive() method is used to check if a thread is currently executing. It returns True if the thread is still \n",
    "running or False if it has completed its execution or has not been started yet. This method is often used to check the status\n",
    "of a thread before performing certain actions based on its current state.\"\"\""
   ]
  },
  {
   "cell_type": "code",
   "execution_count": 4,
   "id": "d54487b8-fc2d-4094-a444-c5d090695a3b",
   "metadata": {},
   "outputs": [
    {
     "name": "stdout",
     "output_type": "stream",
     "text": [
      "List of Squares: [1, 4, 9, 16, 25]\n",
      "List of Cubes: [1, 8, 27, 64, 125]\n"
     ]
    }
   ],
   "source": [
    "\"\"\"Q4. rite a python program to create two threads. Thread one must print the list of squares and threadtwo must print the\n",
    "list of cubes.\"\"\"\n",
    "# answer\n",
    "import threading\n",
    "\n",
    "def print_squares(numbers):\n",
    "    squares = [num ** 2 for num in numbers]\n",
    "    print(\"List of Squares:\", squares)\n",
    "\n",
    "def print_cubes(numbers):\n",
    "    cubes = [num ** 3 for num in numbers]\n",
    "    print(\"List of Cubes:\", cubes)\n",
    "\n",
    "if __name__ == '__main__':\n",
    "    numbers = [1, 2, 3, 4, 5]\n",
    "\n",
    "    thread1 = threading.Thread(target=print_squares, args=(numbers,))\n",
    "    thread2 = threading.Thread(target=print_cubes, args=(numbers,))\n",
    "\n",
    "    thread1.start()\n",
    "    thread2.start()\n",
    "\n",
    "    thread1.join()\n",
    "    thread2.join()"
   ]
  },
  {
   "cell_type": "code",
   "execution_count": null,
   "id": "f170dc59-b6a7-4b80-af5d-67069c337621",
   "metadata": {},
   "outputs": [],
   "source": [
    "#Q5. State advantages and disadvantages of multithreading.\n",
    "\"\"\"Advantages of Multithreading:\n",
    "\n",
    "Increased responsiveness: Multithreading allows concurrent execution of multiple tasks, which can improve the responsiveness of\n",
    "a program. It enables a program to continue executing other threads while waiting for I/O operations or long-running tasks, \n",
    "thus preventing the program from becoming unresponsive.\n",
    "Efficient resource utilization: Multithreading enables efficient utilization of system resources, particularly CPU cores. \n",
    "It allows tasks to be divided among multiple threads, making use of available CPU cores to perform work in parallel. This can \n",
    "result in improved performance and faster execution times for certain types of tasks.\n",
    "\n",
    "Disadvantages of Multithreading:\n",
    "\n",
    "Complexity of synchronization: Multithreading introduces the need for synchronization mechanisms to ensure thread safety and \n",
    "prevent data races and other concurrency issues. Synchronizing access to shared resources can be complex and error-prone, \n",
    "requiring careful consideration and implementation of locks, semaphores, or other synchronization primitives.\n",
    "\n",
    "Increased complexity of debugging: Debugging multithreaded programs can be more challenging than debugging single-threaded \n",
    "programs. Issues such as race conditions, deadlocks, and livelocks can be difficult to identify and reproduce. Debugging tools \n",
    "and techniques specific to multithreaded programming are often required.\n",
    "\n",
    "Potential for performance degradation: Multithreading does not guarantee improved performance in all scenarios. In fact, \n",
    "improperly designed or poorly synchronized multithreaded programs may suffer from performance degradation due to increased \n",
    "overhead from thread management, context switching, and synchronization.\"\"\"\n",
    "\n"
   ]
  },
  {
   "cell_type": "code",
   "execution_count": null,
   "id": "5faa8f67-3c22-4881-96c3-439ca5800bb6",
   "metadata": {},
   "outputs": [],
   "source": [
    "#Q6. Explain deadlocks and race conditions.\n",
    "\"\"\"Deadlock:\n",
    "A deadlock is a situation where two or more threads or processes are unable to proceed because each is waiting for the other \n",
    "to release a resource or perform a certain action. In other words, it's a state where threads are stuck in a circular \n",
    "dependency, and none of them can make progress.\n",
    "Race Condition:\n",
    "A race condition occurs when the behavior or outcome of a program depends on the relative timing or interleaving of multiple\n",
    "threads or processes. It arises when multiple threads access shared data concurrently, and the final result depends on the \n",
    "order of execution of the threads.\"\"\"\n"
   ]
  }
 ],
 "metadata": {
  "kernelspec": {
   "display_name": "Python 3 (ipykernel)",
   "language": "python",
   "name": "python3"
  },
  "language_info": {
   "codemirror_mode": {
    "name": "ipython",
    "version": 3
   },
   "file_extension": ".py",
   "mimetype": "text/x-python",
   "name": "python",
   "nbconvert_exporter": "python",
   "pygments_lexer": "ipython3",
   "version": "3.10.8"
  }
 },
 "nbformat": 4,
 "nbformat_minor": 5
}
