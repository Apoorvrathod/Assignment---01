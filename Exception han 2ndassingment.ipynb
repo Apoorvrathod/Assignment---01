{
 "cells": [
  {
   "cell_type": "code",
   "execution_count": 1,
   "id": "0a05dd4a-1f7f-4850-9b9a-43e1313f8fb2",
   "metadata": {},
   "outputs": [
    {
     "data": {
      "text/plain": [
       "'The Exception class as the base class for creating custom exceptions because it provides a consistent and standardized\\nway to handle exceptions in Python. The Exception class provides a set of methods and attributes that can be inherited by\\ncustom exception classes, allowing them to behave like built-in exceptions.\\nBy inheriting from the Exception class, custom exceptions can leverage the existing exception handling mechanisms in \\nPython, such as try-except blocks, and benefit from the functionality provided by the base class. This includes attributes\\nlike the exception message, stack trace, and the ability to catch and handle exceptions at different levels of the \\nprogram.'"
      ]
     },
     "execution_count": 1,
     "metadata": {},
     "output_type": "execute_result"
    }
   ],
   "source": [
    "#Q1. Explain why we have to use the Exception class while creating a Custom Exception.\n",
    "#Note: Here Exception class refers to the base class for all the exceptions.\n",
    "\"\"\"The Exception class as the base class for creating custom exceptions because it provides a consistent and standardized\n",
    "way to handle exceptions in Python. The Exception class provides a set of methods and attributes that can be inherited by\n",
    "custom exception classes, allowing them to behave like built-in exceptions.\n",
    "By inheriting from the Exception class, custom exceptions can leverage the existing exception handling mechanisms in \n",
    "Python, such as try-except blocks, and benefit from the functionality provided by the base class. This includes attributes\n",
    "like the exception message, stack trace, and the ability to catch and handle exceptions at different levels of the \n",
    "program.\"\"\""
   ]
  },
  {
   "cell_type": "code",
   "execution_count": 2,
   "id": "8da01f38-f719-4e11-a74e-547e0d1d48f0",
   "metadata": {},
   "outputs": [
    {
     "name": "stdout",
     "output_type": "stream",
     "text": [
      "ArithmeticError\n",
      "AssertionError\n",
      "AttributeError\n",
      "BaseException\n",
      "BlockingIOError\n",
      "BrokenPipeError\n",
      "BufferError\n",
      "BytesWarning\n",
      "ChildProcessError\n",
      "ConnectionAbortedError\n",
      "ConnectionError\n",
      "ConnectionRefusedError\n",
      "ConnectionResetError\n",
      "DeprecationWarning\n",
      "EOFError\n",
      "EncodingWarning\n",
      "EnvironmentError\n",
      "Exception\n",
      "FileExistsError\n",
      "FileNotFoundError\n",
      "FloatingPointError\n",
      "FutureWarning\n",
      "GeneratorExit\n",
      "IOError\n",
      "ImportError\n",
      "ImportWarning\n",
      "IndentationError\n",
      "IndexError\n",
      "InterruptedError\n",
      "IsADirectoryError\n",
      "KeyError\n",
      "KeyboardInterrupt\n",
      "LookupError\n",
      "MemoryError\n",
      "ModuleNotFoundError\n",
      "NameError\n",
      "NotADirectoryError\n",
      "NotImplementedError\n",
      "OSError\n",
      "OverflowError\n",
      "PendingDeprecationWarning\n",
      "PermissionError\n",
      "ProcessLookupError\n",
      "RecursionError\n",
      "ReferenceError\n",
      "ResourceWarning\n",
      "RuntimeError\n",
      "RuntimeWarning\n",
      "StopAsyncIteration\n",
      "StopIteration\n",
      "SyntaxError\n",
      "SyntaxWarning\n",
      "SystemError\n",
      "SystemExit\n",
      "TabError\n",
      "TimeoutError\n",
      "TypeError\n",
      "UnboundLocalError\n",
      "UnicodeDecodeError\n",
      "UnicodeEncodeError\n",
      "UnicodeError\n",
      "UnicodeTranslateError\n",
      "UnicodeWarning\n",
      "UserWarning\n",
      "ValueError\n",
      "Warning\n",
      "ZeroDivisionError\n"
     ]
    }
   ],
   "source": [
    "#Q2. Write a python program to print Python Exception Hierarchy.\n",
    "\n",
    "import builtins\n",
    "\n",
    "for exc in dir(builtins):\n",
    "    if isinstance(getattr(builtins, exc), type) and issubclass(getattr(builtins, exc), BaseException):\n",
    "        print(exc)"
   ]
  },
  {
   "cell_type": "code",
   "execution_count": 8,
   "id": "448848d7-1c84-488e-bcc9-010a5e17cd1f",
   "metadata": {},
   "outputs": [
    {
     "data": {
      "text/plain": [
       "['__cause__',\n",
       " '__class__',\n",
       " '__context__',\n",
       " '__delattr__',\n",
       " '__dict__',\n",
       " '__dir__',\n",
       " '__doc__',\n",
       " '__eq__',\n",
       " '__format__',\n",
       " '__ge__',\n",
       " '__getattribute__',\n",
       " '__gt__',\n",
       " '__hash__',\n",
       " '__init__',\n",
       " '__init_subclass__',\n",
       " '__le__',\n",
       " '__lt__',\n",
       " '__ne__',\n",
       " '__new__',\n",
       " '__reduce__',\n",
       " '__reduce_ex__',\n",
       " '__repr__',\n",
       " '__setattr__',\n",
       " '__setstate__',\n",
       " '__sizeof__',\n",
       " '__str__',\n",
       " '__subclasshook__',\n",
       " '__suppress_context__',\n",
       " '__traceback__',\n",
       " 'args',\n",
       " 'with_traceback']"
      ]
     },
     "execution_count": 8,
     "metadata": {},
     "output_type": "execute_result"
    }
   ],
   "source": [
    "dir(Exception)"
   ]
  },
  {
   "cell_type": "code",
   "execution_count": 9,
   "id": "f49fc4d1-3f7c-4917-a3ab-f18e60ecf499",
   "metadata": {},
   "outputs": [
    {
     "name": "stdout",
     "output_type": "stream",
     "text": [
      "division by zero\n"
     ]
    }
   ],
   "source": [
    "#Q3. What errors are defined in the ArithmeticError class? Explain any two with an example.\n",
    "\"\"\"ZeroDivisionError: This error occurs when attempting to divide a number by zero.This code will raise a \n",
    "ZeroDivisionError because dividing by zero is mathematically undefined.\"\"\"\n",
    "try:\n",
    "    a=10/0\n",
    "except ZeroDivisionError as e:\n",
    "    print(e)"
   ]
  },
  {
   "cell_type": "code",
   "execution_count": 10,
   "id": "db08cafb-10e4-41d7-ab29-55aa0c03a83f",
   "metadata": {},
   "outputs": [
    {
     "name": "stdin",
     "output_type": "stream",
     "text": [
      "Enter your age:  566\n"
     ]
    },
    {
     "name": "stdout",
     "output_type": "stream",
     "text": [
      "entered age is very high\n"
     ]
    }
   ],
   "source": [
    "class validateage(Exception):\n",
    "    def __init__(self, msg):\n",
    "        self.msg = msg\n",
    "\n",
    "    def validateage(age):\n",
    "        if age < 0:\n",
    "            raise validateage(\"entered age is negative\")\n",
    "        elif age > 200:\n",
    "            raise validateage(\"entered age is very high\")\n",
    "        else:\n",
    "            print(\"Age is valid\")\n",
    "\n",
    "try:\n",
    "    age = int(input(\"Enter your age: \"))\n",
    "    validateage.validateage(age)\n",
    "except validateage as e:\n",
    "    print(e)"
   ]
  },
  {
   "cell_type": "code",
   "execution_count": 12,
   "id": "65b2e061-ace5-40e5-bf6b-5b0a484d4a07",
   "metadata": {},
   "outputs": [
    {
     "ename": "KeyError",
     "evalue": "'email'",
     "output_type": "error",
     "traceback": [
      "\u001b[0;31m---------------------------------------------------------------------------\u001b[0m",
      "\u001b[0;31mKeyError\u001b[0m                                  Traceback (most recent call last)",
      "Cell \u001b[0;32mIn[12], line 6\u001b[0m\n\u001b[1;32m      2\u001b[0m \u001b[38;5;124;03m\"\"\"The LookupError class is used to define errors that occur when an index or key is not found in a sequence or mapping.\u001b[39;00m\n\u001b[1;32m      3\u001b[0m \u001b[38;5;124;03mTwo examples of errors defined in the LookupError class are KeyError and IndexError.\"\"\"\u001b[39;00m\n\u001b[1;32m      5\u001b[0m my_data \u001b[38;5;241m=\u001b[39m {\u001b[38;5;124m\"\u001b[39m\u001b[38;5;124mname\u001b[39m\u001b[38;5;124m\"\u001b[39m: \u001b[38;5;124m\"\u001b[39m\u001b[38;5;124mApoorv\u001b[39m\u001b[38;5;124m\"\u001b[39m, \u001b[38;5;124m\"\u001b[39m\u001b[38;5;124mage\u001b[39m\u001b[38;5;124m\"\u001b[39m: \u001b[38;5;241m24\u001b[39m}\n\u001b[0;32m----> 6\u001b[0m value \u001b[38;5;241m=\u001b[39m \u001b[43mmy_data\u001b[49m\u001b[43m[\u001b[49m\u001b[38;5;124;43m\"\u001b[39;49m\u001b[38;5;124;43memail\u001b[39;49m\u001b[38;5;124;43m\"\u001b[39;49m\u001b[43m]\u001b[49m\n",
      "\u001b[0;31mKeyError\u001b[0m: 'email'"
     ]
    }
   ],
   "source": [
    "#Q4. Why LookupError class is used? Explain with an example KeyError and IndexError.\n",
    "\"\"\"The LookupError class is used to define errors that occur when an index or key is not found in a sequence or mapping.\n",
    "Two examples of errors defined in the LookupError class are KeyError and IndexError.\"\"\"\n",
    "\n",
    "my_data = {\"name\": \"Apoorv\", \"age\": 24}\n",
    "value = my_data[\"email\"]"
   ]
  },
  {
   "cell_type": "code",
   "execution_count": 13,
   "id": "14298875-b782-45fc-8497-bc05ac521abb",
   "metadata": {},
   "outputs": [
    {
     "ename": "IndexError",
     "evalue": "list index out of range",
     "output_type": "error",
     "traceback": [
      "\u001b[0;31m---------------------------------------------------------------------------\u001b[0m",
      "\u001b[0;31mIndexError\u001b[0m                                Traceback (most recent call last)",
      "Cell \u001b[0;32mIn[13], line 2\u001b[0m\n\u001b[1;32m      1\u001b[0m data_02 \u001b[38;5;241m=\u001b[39m [\u001b[38;5;241m25\u001b[39m, \u001b[38;5;241m24\u001b[39m, \u001b[38;5;241m38\u001b[39m]\n\u001b[0;32m----> 2\u001b[0m value \u001b[38;5;241m=\u001b[39m \u001b[43mdata_02\u001b[49m\u001b[43m[\u001b[49m\u001b[38;5;241;43m3\u001b[39;49m\u001b[43m]\u001b[49m\n",
      "\u001b[0;31mIndexError\u001b[0m: list index out of range"
     ]
    }
   ],
   "source": [
    "data_02 = [25, 24, 38]\n",
    "value = data_02[3]"
   ]
  },
  {
   "cell_type": "code",
   "execution_count": 14,
   "id": "ae33a455-fdec-43fd-b2c8-3b25f1901814",
   "metadata": {},
   "outputs": [
    {
     "ename": "ModuleNotFoundError",
     "evalue": "No module named 'sructure'",
     "output_type": "error",
     "traceback": [
      "\u001b[0;31m---------------------------------------------------------------------------\u001b[0m",
      "\u001b[0;31mModuleNotFoundError\u001b[0m                       Traceback (most recent call last)",
      "Cell \u001b[0;32mIn[14], line 7\u001b[0m\n\u001b[1;32m      1\u001b[0m \u001b[38;5;66;03m#Q5. Explain ImportError. What is ModuleNotFoundError?\u001b[39;00m\n\u001b[1;32m      2\u001b[0m \u001b[38;5;124;03m\"\"\" Is an exception that occurs when an import statement fails to find and load a module or package. It is raised when\u001b[39;00m\n\u001b[1;32m      3\u001b[0m \u001b[38;5;124;03mPython encounters an error while importing a module. This can happen due to various reasons, such as a missing module,\u001b[39;00m\n\u001b[1;32m      4\u001b[0m \u001b[38;5;124;03man incorrect module name, or issues with the module's dependencies.\u001b[39;00m\n\u001b[1;32m      5\u001b[0m \u001b[38;5;124;03mModuleNotFoundError is a subclass of ImportError that specifically indicates that the module being imported was not found.\u001b[39;00m\n\u001b[1;32m      6\u001b[0m \u001b[38;5;124;03m\"\"\"\u001b[39;00m\n\u001b[0;32m----> 7\u001b[0m \u001b[38;5;28;01mimport\u001b[39;00m \u001b[38;5;21;01msructure\u001b[39;00m\n",
      "\u001b[0;31mModuleNotFoundError\u001b[0m: No module named 'sructure'"
     ]
    }
   ],
   "source": [
    "#Q5. Explain ImportError. What is ModuleNotFoundError?\n",
    "\"\"\" Is an exception that occurs when an import statement fails to find and load a module or package. It is raised when\n",
    "Python encounters an error while importing a module. This can happen due to various reasons, such as a missing module,\n",
    "an incorrect module name, or issues with the module's dependencies.\n",
    "ModuleNotFoundError is a subclass of ImportError that specifically indicates that the module being imported was not found.\n",
    "\"\"\"\n",
    "import sructure"
   ]
  },
  {
   "cell_type": "code",
   "execution_count": null,
   "id": "d7eda630-9191-4c79-84c7-76492da81cbc",
   "metadata": {},
   "outputs": [],
   "source": [
    "#Q6. List down some best practices for exception handling in python.\n",
    "\"\"\"1- use alwase a specific exception.\n",
    "2-print always a proper message.\n",
    "3- always try to log your errors.\n",
    "4- Always avoid to write a multiple exception handling.\n",
    "5- document all the errors.\n",
    "6- clearup all the resources.\n",
    "7- Don't ignore exceptions\"\"\""
   ]
  }
 ],
 "metadata": {
  "kernelspec": {
   "display_name": "Python 3 (ipykernel)",
   "language": "python",
   "name": "python3"
  },
  "language_info": {
   "codemirror_mode": {
    "name": "ipython",
    "version": 3
   },
   "file_extension": ".py",
   "mimetype": "text/x-python",
   "name": "python",
   "nbconvert_exporter": "python",
   "pygments_lexer": "ipython3",
   "version": "3.10.8"
  }
 },
 "nbformat": 4,
 "nbformat_minor": 5
}
