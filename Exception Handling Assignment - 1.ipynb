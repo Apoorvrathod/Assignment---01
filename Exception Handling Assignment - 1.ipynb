{
 "cells": [
  {
   "cell_type": "code",
   "execution_count": 1,
   "id": "4b03d901-5523-41ae-a6d5-dca7d1b310a5",
   "metadata": {},
   "outputs": [
    {
     "data": {
      "text/plain": [
       "'Exceptions: These errors occur during the execution of code. They indicate that something unexpected or erroneous has \\nhappened while the code is running. Exceptions can be caught and handled by the program to prevent it from crashing. \\nExamples of exceptions include dividing by zero, accessing an index out of range, or attempting to open a non-existent \\nfile.'"
      ]
     },
     "execution_count": 1,
     "metadata": {},
     "output_type": "execute_result"
    }
   ],
   "source": [
    "#Q1. What is an Exception in Python? Write the difference between Exceptions and Syntax errors.\n",
    "\n",
    "\"\"\" An exception is an event that occurs during the execution of a program, disrupting the normal flow of the program.\n",
    "It represents an error or an exceptional condition that needs to be handled.\"\"\"\n",
    "\n",
    "\"\"\"Syntax errors: These errors occur during the parsing of code and indicate violations of the language's syntax rules. \n",
    "They prevent the code from being executed at all. Examples of syntax errors include missing colons, incorrect indentation,\n",
    "or using an undefined variable.\"\"\"\n",
    "\n",
    "\"\"\"Exceptions: These errors occur during the execution of code. They indicate that something unexpected or erroneous has \n",
    "happened while the code is running. Exceptions can be caught and handled by the program to prevent it from crashing. \n",
    "Examples of exceptions include dividing by zero, accessing an index out of range, or attempting to open a non-existent \n",
    "file.\"\"\""
   ]
  },
  {
   "cell_type": "code",
   "execution_count": 7,
   "id": "91c29f7f-5ab6-4fef-a105-e5ccbfbf3d55",
   "metadata": {},
   "outputs": [],
   "source": [
    "#Q2. What happens when an exception is not handled? Explain with an example.\n",
    "\n",
    "\"\"\"It leads to the termination of the program and an error message is displayed, indicating the unhandled exception. \n",
    "The error message typically includes a traceback, which shows the sequence of function calls that led to the unhandled \n",
    "exception.\"\"\"\n",
    "\n",
    "def divide(a, b):\n",
    "    result = a / b\n",
    "    print(\"Result:\", result)\n"
   ]
  },
  {
   "cell_type": "code",
   "execution_count": 8,
   "id": "26e1d399-e159-4aec-9b59-9388e36793eb",
   "metadata": {},
   "outputs": [
    {
     "ename": "ZeroDivisionError",
     "evalue": "division by zero",
     "output_type": "error",
     "traceback": [
      "\u001b[0;31m---------------------------------------------------------------------------\u001b[0m",
      "\u001b[0;31mZeroDivisionError\u001b[0m                         Traceback (most recent call last)",
      "Cell \u001b[0;32mIn[8], line 1\u001b[0m\n\u001b[0;32m----> 1\u001b[0m \u001b[43mdivide\u001b[49m\u001b[43m(\u001b[49m\u001b[38;5;241;43m10\u001b[39;49m\u001b[43m,\u001b[49m\u001b[43m \u001b[49m\u001b[38;5;241;43m0\u001b[39;49m\u001b[43m)\u001b[49m\n",
      "Cell \u001b[0;32mIn[7], line 8\u001b[0m, in \u001b[0;36mdivide\u001b[0;34m(a, b)\u001b[0m\n\u001b[1;32m      7\u001b[0m \u001b[38;5;28;01mdef\u001b[39;00m \u001b[38;5;21mdivide\u001b[39m(a, b):\n\u001b[0;32m----> 8\u001b[0m     result \u001b[38;5;241m=\u001b[39m \u001b[43ma\u001b[49m\u001b[43m \u001b[49m\u001b[38;5;241;43m/\u001b[39;49m\u001b[43m \u001b[49m\u001b[43mb\u001b[49m\n\u001b[1;32m      9\u001b[0m     \u001b[38;5;28mprint\u001b[39m(\u001b[38;5;124m\"\u001b[39m\u001b[38;5;124mResult:\u001b[39m\u001b[38;5;124m\"\u001b[39m, result)\n",
      "\u001b[0;31mZeroDivisionError\u001b[0m: division by zero"
     ]
    }
   ],
   "source": [
    "divide(10, 0)"
   ]
  },
  {
   "cell_type": "code",
   "execution_count": 12,
   "id": "da6beaa5-c80b-4620-a8da-77350a4b5a3b",
   "metadata": {},
   "outputs": [
    {
     "name": "stdin",
     "output_type": "stream",
     "text": [
      "Enter a number:  0\n"
     ]
    },
    {
     "name": "stdout",
     "output_type": "stream",
     "text": [
      "Cannot divide by zero.\n"
     ]
    }
   ],
   "source": [
    "#Q3. Which Python statements are used to raise and handle exceptions? Explain with an example.\n",
    "\n",
    "\"\"\"To raise an exception in Python, you can use the \"raise\" statement followed by the type of exception you want to \n",
    "raise.\"\"\"\n",
    "\n",
    "try:\n",
    "    num = int(input(\"Enter a number: \"))\n",
    "    result = 10 / num\n",
    "    print(\"Result:\", result)\n",
    "except ZeroDivisionError:\n",
    "    print(\"Cannot divide by zero.\")\n",
    "except ValueError:\n",
    "    print(\"Invalid input. Please enter a valid number.\")"
   ]
  },
  {
   "cell_type": "code",
   "execution_count": 13,
   "id": "09aac5ca-22c8-42be-8ae9-88dc28519f46",
   "metadata": {},
   "outputs": [
    {
     "name": "stdin",
     "output_type": "stream",
     "text": [
      "Enter a positive number:  -9\n"
     ]
    },
    {
     "name": "stdout",
     "output_type": "stream",
     "text": [
      "Error: Number must be positive\n",
      "Finally block executed.\n"
     ]
    }
   ],
   "source": [
    "# Q4 Explain with an example: try, else, finally, and raise.\n",
    "try:\n",
    "    num = int(input(\"Enter a positive number: \"))\n",
    "    if num <= 0:\n",
    "        raise ValueError(\"Number must be positive\")\n",
    "except ValueError as e:\n",
    "    print(\"Error:\", str(e))\n",
    "else:\n",
    "    print(\"No exception occurred.\")\n",
    "finally:\n",
    "    print(\"Finally block executed.\")"
   ]
  },
  {
   "cell_type": "code",
   "execution_count": 14,
   "id": "7e5ec7ce-e1ee-4b48-9cb6-7e60cf6ea3f8",
   "metadata": {},
   "outputs": [
    {
     "name": "stdout",
     "output_type": "stream",
     "text": [
      "Login failed: Invalid User name\n"
     ]
    }
   ],
   "source": [
    "#Q5. What are Custom Exceptions in Python? Why do we need Custom Exceptions? Explain with an example.\n",
    "\n",
    "\"\"\"Custom exceptions in Python are user-defined exception classes that can be created to represent specific errors or \n",
    "exceptional conditions in a program. By defining custom exceptions. it can provide more meaningful error messages and \n",
    "handle specific situations in a specialized way.\n",
    "We need custom exceptions to make our code more expressive, modular, and maintainable. Custom exceptions allow us to \n",
    "encapsulate error conditions and handle them separately, making the code easier to understand and debug.\"\"\"\n",
    "\n",
    "class InvalidUserException(Exception):\n",
    "    pass\n",
    "\n",
    "def login(username, password):\n",
    "    if username != \"unique\":\n",
    "        raise InvalidUserException(\"Invalid User name\")\n",
    "\n",
    "try:\n",
    "    login(\"john\", \"12345\")\n",
    "except InvalidUserException as e:\n",
    "    print(\"Login failed:\", str(e))"
   ]
  },
  {
   "cell_type": "code",
   "execution_count": 17,
   "id": "72c4cb75-0f7e-43a6-bf75-ce515c8be5ac",
   "metadata": {},
   "outputs": [
    {
     "name": "stdout",
     "output_type": "stream",
     "text": [
      "Error reading file: File not found\n"
     ]
    }
   ],
   "source": [
    "#Q6. Create a custom exception class. Use this class to handle an exception.\n",
    "class FileReadException(Exception):\n",
    "    pass\n",
    "\n",
    "def read_file(filename):\n",
    "    try:\n",
    "        with open(filename, \"r\") as file:\n",
    "            content = file.read()\n",
    "            print(\"File content:\", content)\n",
    "    except FileNotFoundError:\n",
    "        raise FileReadException(\"File not found\")\n",
    "\n",
    "try:\n",
    "    read_file(\"data.txt\")\n",
    "except FileReadException as e:\n",
    "    print(\"Error reading file:\", str(e))"
   ]
  },
  {
   "cell_type": "code",
   "execution_count": null,
   "id": "5d779158-023c-456f-b760-221680005d35",
   "metadata": {},
   "outputs": [],
   "source": []
  }
 ],
 "metadata": {
  "kernelspec": {
   "display_name": "Python 3 (ipykernel)",
   "language": "python",
   "name": "python3"
  },
  "language_info": {
   "codemirror_mode": {
    "name": "ipython",
    "version": 3
   },
   "file_extension": ".py",
   "mimetype": "text/x-python",
   "name": "python",
   "nbconvert_exporter": "python",
   "pygments_lexer": "ipython3",
   "version": "3.10.8"
  }
 },
 "nbformat": 4,
 "nbformat_minor": 5
}
