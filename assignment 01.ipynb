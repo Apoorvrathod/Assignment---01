{
 "cells": [
  {
   "cell_type": "code",
   "execution_count": 1,
   "id": "e1cc18e1-d680-4b02-a3e0-ca57fb2fc20b",
   "metadata": {},
   "outputs": [],
   "source": [
    "# Q1. Create one variable containing following type of data.\n",
    "#(i) string\n",
    "A='Demodog'\n",
    "#(ii) list\n",
    "L=[24,56,48,75,78,'Hello',25.58,]\n",
    "#(iii) float\n",
    "F=253.24\n",
    "#(iv) tuple\n",
    "T=(25,1456,356,4854,[24,45,68,44])"
   ]
  },
  {
   "cell_type": "code",
   "execution_count": 2,
   "id": "605a57b0-5ad4-4f4a-a2dd-77c43794bed7",
   "metadata": {},
   "outputs": [
    {
     "data": {
      "text/plain": [
       "'Demodog'"
      ]
     },
     "execution_count": 2,
     "metadata": {},
     "output_type": "execute_result"
    }
   ],
   "source": [
    "A"
   ]
  },
  {
   "cell_type": "code",
   "execution_count": 3,
   "id": "b11dfe1c-a53e-441b-b589-f8e2d2c198d6",
   "metadata": {},
   "outputs": [
    {
     "data": {
      "text/plain": [
       "[24, 56, 48, 75, 78, 'Hello', 25.58]"
      ]
     },
     "execution_count": 3,
     "metadata": {},
     "output_type": "execute_result"
    }
   ],
   "source": [
    "L"
   ]
  },
  {
   "cell_type": "code",
   "execution_count": 4,
   "id": "e061d78c-9479-43ab-a6a0-8c63b32eb154",
   "metadata": {},
   "outputs": [
    {
     "data": {
      "text/plain": [
       "253.24"
      ]
     },
     "execution_count": 4,
     "metadata": {},
     "output_type": "execute_result"
    }
   ],
   "source": [
    "F"
   ]
  },
  {
   "cell_type": "code",
   "execution_count": 5,
   "id": "e3cda710-6e58-452a-b008-837af70899c2",
   "metadata": {},
   "outputs": [
    {
     "data": {
      "text/plain": [
       "(25, 1456, 356, 4854, [24, 45, 68, 44])"
      ]
     },
     "execution_count": 5,
     "metadata": {},
     "output_type": "execute_result"
    }
   ],
   "source": [
    "T"
   ]
  },
  {
   "cell_type": "code",
   "execution_count": 6,
   "id": "ad2e456c-36f0-4641-96a9-6c474c33e559",
   "metadata": {},
   "outputs": [
    {
     "data": {
      "text/plain": [
       "str"
      ]
     },
     "execution_count": 6,
     "metadata": {},
     "output_type": "execute_result"
    }
   ],
   "source": [
    "type(A)"
   ]
  },
  {
   "cell_type": "code",
   "execution_count": 7,
   "id": "41a5be9b-b5ed-4bbb-8269-cb69dddb7251",
   "metadata": {},
   "outputs": [
    {
     "data": {
      "text/plain": [
       "list"
      ]
     },
     "execution_count": 7,
     "metadata": {},
     "output_type": "execute_result"
    }
   ],
   "source": [
    "type(L)"
   ]
  },
  {
   "cell_type": "code",
   "execution_count": 8,
   "id": "75569111-975a-4d4a-811c-6a19ca9c2c0d",
   "metadata": {},
   "outputs": [
    {
     "data": {
      "text/plain": [
       "float"
      ]
     },
     "execution_count": 8,
     "metadata": {},
     "output_type": "execute_result"
    }
   ],
   "source": [
    "type(F)"
   ]
  },
  {
   "cell_type": "code",
   "execution_count": 9,
   "id": "55ed60e0-6075-4638-9dea-463b4232df50",
   "metadata": {},
   "outputs": [
    {
     "data": {
      "text/plain": [
       "tuple"
      ]
     },
     "execution_count": 9,
     "metadata": {},
     "output_type": "execute_result"
    }
   ],
   "source": [
    "type(T)"
   ]
  },
  {
   "cell_type": "code",
   "execution_count": 13,
   "id": "6813e226-38c9-430c-a6d0-bb16728bd443",
   "metadata": {},
   "outputs": [],
   "source": [
    "#Q2. Given are some following variables containing data:\n",
    "var1 = ''\n",
    "var2 = '[ DS , ML , Python]'\n",
    "var3 = [ 'DS' , 'ML' , 'Python' ]\n",
    "var4 = 1."
   ]
  },
  {
   "cell_type": "code",
   "execution_count": 14,
   "id": "f214f782-4749-4d28-a55b-a1e9c07a7ba0",
   "metadata": {},
   "outputs": [
    {
     "data": {
      "text/plain": [
       "str"
      ]
     },
     "execution_count": 14,
     "metadata": {},
     "output_type": "execute_result"
    }
   ],
   "source": [
    "type(var1)"
   ]
  },
  {
   "cell_type": "code",
   "execution_count": 15,
   "id": "c7cb1d1a-a058-4d89-a433-d6be4a644054",
   "metadata": {},
   "outputs": [
    {
     "data": {
      "text/plain": [
       "str"
      ]
     },
     "execution_count": 15,
     "metadata": {},
     "output_type": "execute_result"
    }
   ],
   "source": [
    "type(var2)"
   ]
  },
  {
   "cell_type": "code",
   "execution_count": 16,
   "id": "968da49e-4159-4496-aeec-50165d234ae6",
   "metadata": {},
   "outputs": [
    {
     "data": {
      "text/plain": [
       "list"
      ]
     },
     "execution_count": 16,
     "metadata": {},
     "output_type": "execute_result"
    }
   ],
   "source": [
    "type(var3)"
   ]
  },
  {
   "cell_type": "code",
   "execution_count": 17,
   "id": "986470d2-13a0-4eb1-a9a3-94f9b7503929",
   "metadata": {},
   "outputs": [
    {
     "data": {
      "text/plain": [
       "float"
      ]
     },
     "execution_count": 17,
     "metadata": {},
     "output_type": "execute_result"
    }
   ],
   "source": [
    "type(var4)"
   ]
  },
  {
   "cell_type": "code",
   "execution_count": 18,
   "id": "b879a788-3a62-4ed8-a744-2d8e14abb122",
   "metadata": {},
   "outputs": [],
   "source": [
    "# var1 is a string variable\n",
    "#var2 is a string variable\n",
    "#var3 is a list variable\n",
    "#var4 is float variable"
   ]
  },
  {
   "cell_type": "code",
   "execution_count": 19,
   "id": "215f0edf-1c35-4b00-803a-ccae42d30b66",
   "metadata": {},
   "outputs": [],
   "source": [
    "# Q3. Explain the use of the following operators using an example:\n",
    "#(i) /\n",
    "#(ii) %\n",
    "#(iii) //\n",
    "#(iv) **"
   ]
  },
  {
   "cell_type": "code",
   "execution_count": 20,
   "id": "463c2e23-cbe9-4a98-a877-ec4b998b98c0",
   "metadata": {},
   "outputs": [
    {
     "data": {
      "text/plain": [
       "4.0"
      ]
     },
     "execution_count": 20,
     "metadata": {},
     "output_type": "execute_result"
    }
   ],
   "source": [
    "# / is used as a division operator.\n",
    "80/20"
   ]
  },
  {
   "cell_type": "code",
   "execution_count": 21,
   "id": "9b7b3dcf-0a3c-4833-a288-d17f64ab1305",
   "metadata": {},
   "outputs": [
    {
     "data": {
      "text/plain": [
       "13"
      ]
     },
     "execution_count": 21,
     "metadata": {},
     "output_type": "execute_result"
    }
   ],
   "source": [
    "# % is used as a modulus operator.\n",
    "58%45"
   ]
  },
  {
   "cell_type": "code",
   "execution_count": 22,
   "id": "804ba77a-9ae3-4399-a43a-2fbf481e26de",
   "metadata": {},
   "outputs": [
    {
     "data": {
      "text/plain": [
       "2"
      ]
     },
     "execution_count": 22,
     "metadata": {},
     "output_type": "execute_result"
    }
   ],
   "source": [
    "# // is used as a floor division operator.\n",
    "100//50"
   ]
  },
  {
   "cell_type": "code",
   "execution_count": 23,
   "id": "1f9fd15b-7bbd-45a8-a82b-54bef5da8852",
   "metadata": {},
   "outputs": [
    {
     "data": {
      "text/plain": [
       "27"
      ]
     },
     "execution_count": 23,
     "metadata": {},
     "output_type": "execute_result"
    }
   ],
   "source": [
    "# ** is used as a Exponential operator.\n",
    "3**3"
   ]
  },
  {
   "cell_type": "code",
   "execution_count": 24,
   "id": "4f980543-4e0e-459a-9240-45b9039e7244",
   "metadata": {},
   "outputs": [],
   "source": [
    "# Q4. Create a list of length 10 of your choice containing multiple types of data. Using for loop print the element and its data type.\n",
    "X=[25,50,45,84,69,'DC','avengers',25.54, False, True]"
   ]
  },
  {
   "cell_type": "code",
   "execution_count": 29,
   "id": "dae88281-546b-42e0-a912-edf89b12d629",
   "metadata": {},
   "outputs": [
    {
     "name": "stdout",
     "output_type": "stream",
     "text": [
      "25 and its type is <class 'int'>\n",
      "50 and its type is <class 'int'>\n",
      "45 and its type is <class 'int'>\n",
      "84 and its type is <class 'int'>\n",
      "69 and its type is <class 'int'>\n",
      "DC and its type is <class 'str'>\n",
      "avengers and its type is <class 'str'>\n",
      "25.54 and its type is <class 'float'>\n",
      "False and its type is <class 'bool'>\n",
      "True and its type is <class 'bool'>\n"
     ]
    }
   ],
   "source": [
    "for i in X:\n",
    "    print(f\"{i} and its type is {type(i)}\")\n",
    "    "
   ]
  },
  {
   "cell_type": "code",
   "execution_count": 4,
   "id": "a4136349-b60f-44a5-b796-1b56253f2a20",
   "metadata": {},
   "outputs": [
    {
     "name": "stdout",
     "output_type": "stream",
     "text": [
      "100 is divisble by 5 10times\n"
     ]
    }
   ],
   "source": [
    "# Q5. Using a while loop, verify if the number A is purely divisible by number B and if so then how many times it can be divisible.\n",
    "A=100\n",
    "B=5\n",
    "count=0\n",
    "temp=A\n",
    "while A % B==0:\n",
    "    count=count+5\n",
    "    A=A/B\n",
    "if count>0:\n",
    "    print(f\"{temp} is divisble by {B} {count}times\")\n",
    "else:\n",
    "    print(f\"{temp} is noty divisble by {B}\")\n",
    "    "
   ]
  },
  {
   "cell_type": "code",
   "execution_count": 11,
   "id": "ee5ac54e-99fa-4b75-91d9-00545fb1c08f",
   "metadata": {},
   "outputs": [
    {
     "name": "stdout",
     "output_type": "stream",
     "text": [
      "9 is divisble by 3\n",
      "24 is divisble by 3\n",
      "16 is not divisble by 3\n",
      "74 is not divisble by 3\n",
      "84 is divisble by 3\n",
      "69 is divisble by 3\n",
      "258 is divisble by 3\n",
      "657 is divisble by 3\n",
      "458 is not divisble by 3\n",
      "753 is divisble by 3\n",
      "999 is divisble by 3\n",
      "955 is not divisble by 3\n",
      "854 is not divisble by 3\n",
      "7569 is divisble by 3\n",
      "21458 is not divisble by 3\n",
      "9215 is not divisble by 3\n",
      "987 is divisble by 3\n",
      "578 is not divisble by 3\n",
      "58 is not divisble by 3\n",
      "533 is not divisble by 3\n",
      "888 is divisble by 3\n",
      "777 is divisble by 3\n",
      "666 is divisble by 3\n",
      "444 is divisble by 3\n",
      "333 is divisble by 3\n"
     ]
    }
   ],
   "source": [
    "#Q6. Create a list containing 25 int type data. Using for loop and if-else condition print if the element is divisible by 3 or not.\n",
    "X=[9,24,16,74,84,69,258,657,458,753,999,955,854,7569,21458,9215,987,578,58,533,888,777,666,444,333,]\n",
    "for i in X:\n",
    "    if i % 3 == 0:\n",
    "        print(f\"{i} is divisble by 3\")\n",
    "    else:\n",
    "            print(f\"{i} is not divisble by 3\")"
   ]
  },
  {
   "cell_type": "code",
   "execution_count": 12,
   "id": "adb713a8-80bd-437f-a3e3-d3989c73bd03",
   "metadata": {},
   "outputs": [],
   "source": [
    "#Q7. What do you understand about mutable and immutable data types? Give examples for both showing this property.\n",
    "#Imutable data  type are thoes that cannot be change once they are created. \n",
    "#mutable data types are thoes that can be vhange after assigned.\n",
    "#int,float,bool,str,tuple are imutable type.\n",
    "#list, set are mutable type"
   ]
  },
  {
   "cell_type": "code",
   "execution_count": 17,
   "id": "5b7a11f1-8583-496f-b721-15c7471cd8e1",
   "metadata": {},
   "outputs": [],
   "source": [
    "# example of immutable\n",
    "name = 'Apoorv'"
   ]
  },
  {
   "cell_type": "code",
   "execution_count": 19,
   "id": "70ada132-3605-4472-b3b6-0ac451911844",
   "metadata": {},
   "outputs": [
    {
     "data": {
      "text/plain": [
       "str"
      ]
     },
     "execution_count": 19,
     "metadata": {},
     "output_type": "execute_result"
    }
   ],
   "source": [
    "type(name)"
   ]
  },
  {
   "cell_type": "code",
   "execution_count": 21,
   "id": "3a1823c4-3231-4dcd-96ed-6eed09582b48",
   "metadata": {},
   "outputs": [
    {
     "ename": "TypeError",
     "evalue": "'str' object does not support item assignment",
     "output_type": "error",
     "traceback": [
      "\u001b[0;31m---------------------------------------------------------------------------\u001b[0m",
      "\u001b[0;31mTypeError\u001b[0m                                 Traceback (most recent call last)",
      "Cell \u001b[0;32mIn[21], line 1\u001b[0m\n\u001b[0;32m----> 1\u001b[0m \u001b[43mname\u001b[49m\u001b[43m[\u001b[49m\u001b[38;5;241;43m2\u001b[39;49m\u001b[43m]\u001b[49m\u001b[38;5;241m=\u001b[39m\u001b[38;5;124m'\u001b[39m\u001b[38;5;124mV\u001b[39m\u001b[38;5;124m'\u001b[39m\n",
      "\u001b[0;31mTypeError\u001b[0m: 'str' object does not support item assignment"
     ]
    }
   ],
   "source": [
    "name[2]='V'"
   ]
  },
  {
   "cell_type": "code",
   "execution_count": 22,
   "id": "bc0994ff-9b29-41b6-9f47-ae80dd4d77a7",
   "metadata": {},
   "outputs": [],
   "source": [
    "#example of mutable\n",
    "Items=[2555,45,1,5,7,'Apoorv','game']"
   ]
  },
  {
   "cell_type": "code",
   "execution_count": 23,
   "id": "c39d666e-4979-4019-9828-da252339829b",
   "metadata": {},
   "outputs": [
    {
     "data": {
      "text/plain": [
       "list"
      ]
     },
     "execution_count": 23,
     "metadata": {},
     "output_type": "execute_result"
    }
   ],
   "source": [
    "type(Items)"
   ]
  },
  {
   "cell_type": "code",
   "execution_count": 24,
   "id": "0281ca3d-b45a-4ce0-8c54-8af6c56090a9",
   "metadata": {},
   "outputs": [],
   "source": [
    "Items[6]= 'school'"
   ]
  },
  {
   "cell_type": "code",
   "execution_count": 25,
   "id": "cd326d98-8170-4181-b09d-69c858458309",
   "metadata": {},
   "outputs": [
    {
     "data": {
      "text/plain": [
       "[2555, 45, 1, 5, 7, 'Apoorv', 'school']"
      ]
     },
     "execution_count": 25,
     "metadata": {},
     "output_type": "execute_result"
    }
   ],
   "source": [
    "Items"
   ]
  },
  {
   "cell_type": "code",
   "execution_count": null,
   "id": "e47a4f65-3f6e-4ef3-820e-8c7c50486c36",
   "metadata": {},
   "outputs": [],
   "source": []
  }
 ],
 "metadata": {
  "kernelspec": {
   "display_name": "Python 3 (ipykernel)",
   "language": "python",
   "name": "python3"
  },
  "language_info": {
   "codemirror_mode": {
    "name": "ipython",
    "version": 3
   },
   "file_extension": ".py",
   "mimetype": "text/x-python",
   "name": "python",
   "nbconvert_exporter": "python",
   "pygments_lexer": "ipython3",
   "version": "3.10.8"
  }
 },
 "nbformat": 4,
 "nbformat_minor": 5
}
