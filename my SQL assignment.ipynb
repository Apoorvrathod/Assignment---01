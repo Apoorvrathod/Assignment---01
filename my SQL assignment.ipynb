{
 "cells": [
  {
   "cell_type": "code",
   "execution_count": 1,
   "id": "f4fe9108-e9cd-4593-a020-00ac572094d0",
   "metadata": {},
   "outputs": [
    {
     "data": {
      "text/plain": [
       "'NoSQL databases are non-relational and provide flexible schemas, allowing for dynamic and unstructured data.\\nThey offer horizontal scalability and high performance for handling large amounts of data and concurrent users.\\nNoSQL databases use various data models such as key-value, document, columnar, and graph.'"
      ]
     },
     "execution_count": 1,
     "metadata": {},
     "output_type": "execute_result"
    }
   ],
   "source": [
    "#Q1. What is a database? Differentiate between SQL and NoSQL databases.\n",
    "\n",
    "\"\"\"A database is a structured collection of data organized and stored in a computer system. It provides a way to store, manage, \n",
    "retrieve, and manipulate data efficiently. \"\"\"\n",
    "\n",
    "#SQL Databases:\n",
    "\"\"\"SQL databases are based on a relational model, where data is organized into tables with predefined schemas.\n",
    "They enforce strict data consistency and support ACID (Atomicity, Consistency, Isolation, Durability) properties.\n",
    "SQL databases use structured query language (SQL) to interact with the data.\"\"\"\n",
    "\n",
    "#NoSQL Databases:\n",
    "\"\"\"NoSQL databases are non-relational and provide flexible schemas, allowing for dynamic and unstructured data.\n",
    "They offer horizontal scalability and high performance for handling large amounts of data and concurrent users.\n",
    "NoSQL databases use various data models such as key-value, document, columnar, and graph.\"\"\""
   ]
  },
  {
   "cell_type": "code",
   "execution_count": null,
   "id": "60df8696-e44f-45b1-801c-f2c6c6e89de2",
   "metadata": {},
   "outputs": [],
   "source": [
    "#Q2. What is DDL? Explain why CREATE, DROP, ALTER, and TRUNCATE are used with an example.\n",
    "\n",
    "\"\"\"DDL stands for Data Definition Language, and it is a subset of SQL used for defining and managing the structure of the \n",
    "database schema. DDL statements are used to create, modify, and delete database objects such as tables, indexes, and views.\"\"\"\n",
    "\n",
    "#CREATE: The CREATE statement is used to create new database objects.\n",
    "#DROP: The DROP statement is used to delete existing database objects. \n",
    "#ALTER: The ALTER statement is used to modify the structure of an existing database object. \n",
    "#TRUNCATE: The TRUNCATE statement is used to delete all data from a table while keeping its structure intact.  \n",
    "\n",
    "#CREATE TABLE employees (\n",
    "    id INT PRIMARY KEY,\n",
    "    name VARCHAR(100),\n",
    "    salary DECIMAL(10, 2));\n",
    "\n",
    "#DROP TABLE employees;\n",
    "\n",
    "#ALTER TABLE employees ADD COLUMN age INT;\n",
    "\n",
    "#TRUNCATE TABLE employees;"
   ]
  },
  {
   "cell_type": "code",
   "execution_count": null,
   "id": "fb8b06d2-e978-4863-b13b-74f148fda66e",
   "metadata": {},
   "outputs": [],
   "source": [
    "#Q3. What is DML? Explain INSERT, UPDATE, and DELETE with an example.\n",
    "\n",
    "\"\"\"DML stands for Data Manipulation Language, and it is used to manage the data within the database. DML statements allow you \n",
    "to insert, update, and delete records in database tables.\"\"\"\n",
    "\n",
    "#INSERT: The INSERT statement is used to add new records into a table.\n",
    "#Example:\n",
    "INSERT INTO employees (id, name, salary) VALUES (5055830, 'Apoorv', 50000);\n",
    "\n",
    "#UPDATE: The UPDATE statement is used to modify existing records in a table. \n",
    "#example:\n",
    "UPDATE employees SET salary = 60000 WHERE id = 500055830;\n",
    "\n",
    "#DELETE: The DELETE statement is used to remove records from a table. \n",
    "#Example:\n",
    "DELETE FROM employees WHERE id = 500055830;"
   ]
  },
  {
   "cell_type": "code",
   "execution_count": null,
   "id": "d61e46ec-7994-461a-9205-466500f17d07",
   "metadata": {},
   "outputs": [],
   "source": [
    "#What is DQL? Explain SELECT with an example.\n",
    "\"\"\"DQL stands for Data Query Language, and it is used to retrieve data from the database.\n",
    "\n",
    "SELECT: The SELECT statement is used to retrieve data from one or more tables. It allows you to specify the columns to be \n",
    "retrieved and apply filtering and sorting conditions.\"\"\"\n",
    "SELECT * FROM employees WHERE salary > 5000;"
   ]
  },
  {
   "cell_type": "code",
   "execution_count": null,
   "id": "a3318880-8e9b-45f6-8972-bd753e08a8a2",
   "metadata": {},
   "outputs": [],
   "source": [
    "#Q5. Explain Primary Key and Foreign Key.\n",
    "\n",
    "\"\"\"Primary Key: A primary key is a column or a combination of columns in a table that uniquely identifies each row in the table. \n",
    "It ensures the uniqueness and integrity of the data. A primary key cannot contain duplicate or NULL values. Each table can have \n",
    "only one primary key. It is often used to establish relationships with other tables through foreign keys.\"\"\"\n",
    "\n",
    "\"\"\"Foreign Key: A foreign key is a column or a combination of columns in a table that refers to the primary key of another \n",
    "table. It establishes a relationship between two tables. The foreign key in one table refers to the primary key in another \n",
    "table, creating a link between the two tables. It ensures referential integrity, meaning that the values in the foreign key \n",
    "column(s) must exist in the referenced table's primary key column(s).\"\"\""
   ]
  },
  {
   "cell_type": "code",
   "execution_count": null,
   "id": "91bc3baa-cd05-495a-bbba-c02351ff915f",
   "metadata": {},
   "outputs": [],
   "source": [
    "#Q6. Write a Python code to connect MySQL to Python. Explain the cursor() and execute() method.\n",
    "import mysql.connector\n",
    "mydb = mysql.connector.connect(\n",
    "  host=\"localhost\",\n",
    "  user=\"abc\",\n",
    "  password=\"password\"\n",
    ")\n",
    "print(mydb)\n",
    "mycursor = mydb.cursor()\n",
    "mycursor.execute(\"SHOW DATABASES\")\n",
    "for x in mycursor:\n",
    "    print(x)\n",
    "    \n",
    "\n",
    "\"\"\"The cursor() method creates a cursor object, which acts as a handle for performing various database operations. It provides \n",
    "methods like execute(), fetchone(), fetchall(), etc., to interact with the database.\n",
    "\n",
    "The execute() method is used to execute SQL statements. It takes an SQL statement as a parameter and sends it to the MySQL\n",
    "server for execution. In the example, the execute() method is used to execute the SELECT statement.\"\"\""
   ]
  },
  {
   "cell_type": "code",
   "execution_count": null,
   "id": "29bcd907-b15b-45d8-8db4-11abd7723b72",
   "metadata": {},
   "outputs": [],
   "source": [
    "#Q7. Give the order of execution of SQL clauses in an SQL query.\n",
    "\"\"\"FROM: The FROM clause specifies the table(s) from which the data will be retrieved.\n",
    "\n",
    "WHERE: The WHERE clause is used to filter the rows based on specified conditions. It narrows down the result set by applying \n",
    "logical conditions.\n",
    "\n",
    "GROUP BY: The GROUP BY clause is used to group rows with similar values in one or more columns. It is often used in conjunction\n",
    "with aggregate functions like SUM, COUNT, AVG, etc.\n",
    "\n",
    "HAVING: The HAVING clause is used to filter the grouped rows based on specified conditions. It applies conditions to the grouped\n",
    "data after the GROUP BY clause.\n",
    "\n",
    "SELECT: The SELECT clause is used to specify the columns to be retrieved from the table(s). It defines the structure and content\n",
    "of the result set.\n",
    "\n",
    "ORDER BY: The ORDER BY clause is used to sort the result set based on specified columns. It can sort the data in ascending \n",
    "(ASC) or descending (DESC) order.\n",
    "\n",
    "LIMIT/OFFSET: The LIMIT clause is used to restrict the number of rows returned by the query. It specifies the maximum number\n",
    "of rows to be retrieved. The OFFSET clause, when used in conjunction with LIMIT, allows skipping a specified number of rows \n",
    "before retrieving the remaining rows.\"\"\""
   ]
  }
 ],
 "metadata": {
  "kernelspec": {
   "display_name": "Python 3 (ipykernel)",
   "language": "python",
   "name": "python3"
  },
  "language_info": {
   "codemirror_mode": {
    "name": "ipython",
    "version": 3
   },
   "file_extension": ".py",
   "mimetype": "text/x-python",
   "name": "python",
   "nbconvert_exporter": "python",
   "pygments_lexer": "ipython3",
   "version": "3.10.8"
  }
 },
 "nbformat": 4,
 "nbformat_minor": 5
}
