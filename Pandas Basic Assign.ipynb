{
 "cells": [
  {
   "cell_type": "code",
   "execution_count": null,
   "id": "a055291c-cd96-41f6-bd93-6635c328b913",
   "metadata": {},
   "outputs": [],
   "source": [
    "#Q1. Create a Pandas Series that contains the following data: 4, 8, 15, 16, 23, and 42. Then, print the series.\n",
    "#Q2. Create a variable of list type containing 10 elements in it, and apply pandas.Series function on the variable print it.\n",
    "\"\"\"Q3. Create a Pandas DataFrame that contains the following data:\n",
    "Name\n",
    "Alice\n",
    "Bob\n",
    "Claire\n",
    "\n",
    "Age\n",
    "25\n",
    "30\n",
    "27\n",
    "\n",
    "Gender\n",
    "Female\n",
    "Male\n",
    "Female\n",
    "Then, print the DataFrame.\"\"\"\n",
    "#Q4. What is ‘DataFrame’ in pandas and how is it different from pandas.series? Explain with an example.\n",
    "#Q5. What are some common functions you can use to manipulate data in a Pandas DataFrame? Can you give an example of when you might use one of these functions?\n",
    "#Q6. Which of the following is mutable in nature Series, DataFrame, Panel?\n",
    "#Q7. Create a DataFrame using multiple Series. Explain with an example."
   ]
  },
  {
   "cell_type": "code",
   "execution_count": 2,
   "id": "f39c03cb-0923-44cc-8296-f8c990c9ca3e",
   "metadata": {},
   "outputs": [
    {
     "name": "stdout",
     "output_type": "stream",
     "text": [
      "0     4\n",
      "1     8\n",
      "2    15\n",
      "3    16\n",
      "4    23\n",
      "5    42\n",
      "dtype: int64\n"
     ]
    }
   ],
   "source": [
    "#Q1 - Answer\n",
    "import pandas as pd\n",
    "Data_list = [4, 8, 15, 16, 23, 42]\n",
    "Series = pd.Series(Data_list)\n",
    "print(Series)"
   ]
  },
  {
   "cell_type": "code",
   "execution_count": 3,
   "id": "b9744816-e5aa-430f-92ae-9d721288ea40",
   "metadata": {},
   "outputs": [
    {
     "name": "stdout",
     "output_type": "stream",
     "text": [
      "0     12\n",
      "1     52\n",
      "2     63\n",
      "3     74\n",
      "4     85\n",
      "5     96\n",
      "6    107\n",
      "7    158\n",
      "8    129\n",
      "9    110\n",
      "dtype: int64\n"
     ]
    }
   ],
   "source": [
    "#Q2 - Answer\n",
    "Data_list2 = [12, 52, 63, 74, 85, 96, 107, 158, 129, 110]\n",
    "Series2 = pd.Series(Data_list2)\n",
    "print(Series2)\n"
   ]
  },
  {
   "cell_type": "code",
   "execution_count": 4,
   "id": "6406d42a-dc85-410f-bbcd-ba689ec76e02",
   "metadata": {},
   "outputs": [
    {
     "name": "stdout",
     "output_type": "stream",
     "text": [
      "     Name  Age  Gender\n",
      "0   Alice   25  Female\n",
      "1     Bob   30    Male\n",
      "2  Claire   27  Female\n"
     ]
    }
   ],
   "source": [
    "#Q3 - Answer\n",
    "\n",
    "Data3 = {\n",
    "    'Name': ['Alice', 'Bob', 'Claire'],\n",
    "    'Age': [25, 30, 27],\n",
    "    'Gender': ['Female', 'Male', 'Female']\n",
    "}\n",
    "\n",
    "df = pd.DataFrame(Data3)\n",
    "print(df)\n"
   ]
  },
  {
   "cell_type": "code",
   "execution_count": 5,
   "id": "21e109ff-849e-4d9b-9929-9928621003bd",
   "metadata": {},
   "outputs": [
    {
     "name": "stdout",
     "output_type": "stream",
     "text": [
      "Series:\n",
      "0    Apoorv\n",
      "1     Banty\n",
      "2    Deepak\n",
      "dtype: object\n",
      "\n",
      "DataFrame:\n",
      "  Student Name  Marks in 10\n",
      "0        Apple            3\n",
      "1       Banana            5\n",
      "2       Orange            2\n"
     ]
    }
   ],
   "source": [
    "#Q4 - Answer\n",
    "\"\"\"A DataFrame in Pandas is a 2-dimensional labeled data structure, similar to a table or a spreadsheet. It is the most commonly\n",
    "used data structure in Pandas and allows you to store and manipulate data in a tabular form with rows and columns.\n",
    "DataFrame: A DataFrame is a 2-dimensional data structure that can store multiple columns of data, and each column is represented\n",
    "as a Pandas Series. It is essentially a collection of Series aligned along a common index, forming a table-like structure.\n",
    "Series: A Series is a 1-dimensional data structure in Pandas that stores an array of data and an associated index. It can be \n",
    "thought of as a single column of data, and it lacks the tabular structure of a DataFrame.\"\"\"\n",
    "\n",
    "Student_name = pd.Series(['Apoorv', 'Banty', 'Deepak'])\n",
    "\n",
    "Data4 = {\n",
    "    'Student Name': ['Apple', 'Banana', 'Orange'],\n",
    "    'Marks in 10': [3, 5, 2]\n",
    "}\n",
    "df = pd.DataFrame(Data4)\n",
    "print(\"Series:\")\n",
    "print(Student_name)\n",
    "print(\"\\nDataFrame:\")\n",
    "print(df)\n"
   ]
  },
  {
   "cell_type": "code",
   "execution_count": null,
   "id": "69837786-c94c-470d-8933-dc7e8113e19e",
   "metadata": {},
   "outputs": [],
   "source": [
    "#Q5- Answer\n",
    "\"\"\"some of the basisc fuction are:\"\"\"\n",
    ".read_csv(\"file name\") - \"\"\"this fuction is used to read file which are saved in library\"\"\"\n",
    ".head() \"\"\"is a method used to display the first few rows of a Pandas DataFrame. It allows you to quickly inspect the contents\n",
    "of the DataFrame and get a glimpse of the data it contains.\"\"\"\n",
    ".tail() \"\"\"will display the last five rows of the DataFrame. If you want to see more rows, you can pass the number of rows \n",
    "you wish to display within the parentheses.\"\"\"\n",
    ".columns, \"\"\"it will return a Pandas Index object containing the column names of the DataFrame.\"\"\"\n",
    ".read_csv() \"\"\"function to read the CSV file from the specified \"link\" and store its contents into a DataFrame\"\"\"\n",
    "type(df) \"\"\"To determine the type of the variable df and check if it is a Pandas DataFrame, you can use the type() function in \n",
    "Python.\"\"\"\n",
    ".read_html() \"\"\"function is used to extract tables from HTML web pages and returns a list of DataFrame objects.\"\"\"\n",
    "to_csv() \"\"\"method is used to save the DataFrame df to a CSV file named \"dfto.csv\" in the current working directory.is used to\n",
    "stord permanently file into the directory\"\"\"\n",
    "drop() \"\"\"To remove rows or columns from the DataFrame.\"\"\"\n",
    "filter() \"\"\"To filter rows based on conditions.\"\"\"\n",
    "groupby() \"\"\"To group data based on one or more columns and perform aggregations.\"\"\""
   ]
  },
  {
   "cell_type": "code",
   "execution_count": 8,
   "id": "62ffa6a1-1ba4-4f2e-b06a-2c4a45cf68e3",
   "metadata": {},
   "outputs": [
    {
     "name": "stdout",
     "output_type": "stream",
     "text": [
      "Head of DataFrame:\n",
      "      Name  Age      City  Salary\n",
      "0  Anamika   25     Gonda   50000\n",
      "1    Bunty   32  Dehradun   60000\n",
      "2  Charlie   18     Patna   45000\n",
      "3      Dav   47  Tunakpur   80000\n",
      "4     Evan   29    Berali   55000\n",
      "\n",
      "Tail of DataFrame:\n",
      "      Name  Age      City  Salary\n",
      "1    Bunty   32  Dehradun   60000\n",
      "2  Charlie   18     Patna   45000\n",
      "3      Dav   47  Tunakpur   80000\n",
      "4     Evan   29    Berali   55000\n",
      "5   Franki   36  Shjhapur   70000\n",
      "\n",
      "Column Names:\n",
      "Index(['Name', 'Age', 'City', 'Salary'], dtype='object')\n"
     ]
    }
   ],
   "source": [
    "import pandas as pd\n",
    "\n",
    "Data5= {\n",
    "    'Name': ['Anamika', 'Bunty', 'Charlie', 'Dav', 'Evan', 'Franki'],\n",
    "    'Age': [25, 32, 18, 47, 29, 36],\n",
    "    'City': ['Gonda', 'Dehradun', 'Patna', 'Tunakpur', 'Berali', 'Shjhapur'],\n",
    "    'Salary': [50000, 60000, 45000, 80000, 55000, 70000]\n",
    "}\n",
    "\n",
    "df = pd.DataFrame(Data5)\n",
    "\n",
    "print(\"Head of DataFrame:\")\n",
    "print(df.head())\n",
    "\n",
    "print(\"\\nTail of DataFrame:\")\n",
    "print(df.tail())\n",
    "\n",
    "print(\"\\nColumn Names:\")\n",
    "print(df.columns)\n"
   ]
  },
  {
   "cell_type": "code",
   "execution_count": null,
   "id": "9a0f45c5-4eaa-4255-a047-c381c38de76c",
   "metadata": {},
   "outputs": [],
   "source": [
    "#Q6 -Answer\n",
    "\"\"\"Series: Series is mutable, meaning you can modify its elements, change the values, or extend its size after it has been \n",
    "created.\n",
    "DataFrame: DataFrame is mutable as well, allowing you to add or remove columns, modify data, and perform various operations on \n",
    "it.\n",
    "Panel: The Panel was a 3-dimensional data structure in older versions of Pandas, but it has been deprecated. Instead, \n",
    "multi-dimensional data is now handled using hierarchical indexing within DataFrames.\"\"\""
   ]
  },
  {
   "cell_type": "code",
   "execution_count": 7,
   "id": "f7d0aef9-895e-493b-9532-f5e328e2c6ab",
   "metadata": {},
   "outputs": [
    {
     "name": "stdout",
     "output_type": "stream",
     "text": [
      "      Name  Age  Gender\n",
      "0     Aman   25    Male\n",
      "1     Boby   22  Female\n",
      "2  Charles   27    Male\n"
     ]
    }
   ],
   "source": [
    "#7 -Answer\n",
    "\"\"\"Creating a DataFrame using multiple Series in Pandas is a common way to organize and analyze data. You can combine several \n",
    "Pandas Series, each representing a different column of data, into a single DataFrame.\"\"\"\n",
    "\n",
    "Names_college_student = pd.Series(['Aman', 'Boby', 'Charles'])\n",
    "Ages = pd.Series([25, 22, 27])\n",
    "Genders = pd.Series(['Male', 'Female', 'Male'])\n",
    "\n",
    "Data7 = {\n",
    "    'Name': Names_college_student,\n",
    "    'Age': Ages,\n",
    "    'Gender': Genders\n",
    "}\n",
    "\n",
    "df = pd.DataFrame(Data7)\n",
    "\n",
    "print(df)\n"
   ]
  },
  {
   "cell_type": "code",
   "execution_count": null,
   "id": "f84dd5c3-759e-4878-b8fa-86cf21310a2e",
   "metadata": {},
   "outputs": [],
   "source": []
  }
 ],
 "metadata": {
  "kernelspec": {
   "display_name": "Python 3 (ipykernel)",
   "language": "python",
   "name": "python3"
  },
  "language_info": {
   "codemirror_mode": {
    "name": "ipython",
    "version": 3
   },
   "file_extension": ".py",
   "mimetype": "text/x-python",
   "name": "python",
   "nbconvert_exporter": "python",
   "pygments_lexer": "ipython3",
   "version": "3.10.8"
  }
 },
 "nbformat": 4,
 "nbformat_minor": 5
}
